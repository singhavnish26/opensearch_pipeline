{
 "cells": [
  {
   "cell_type": "code",
   "execution_count": 16,
   "id": "f5f2eb5a-ec0a-45ed-814f-9894e232e78c",
   "metadata": {},
   "outputs": [],
   "source": [
    "import datetime\n",
    "from datetime import datetime, timedelta\n",
    "import calendar\n",
    "import requests\n",
    "import json\n",
    "import urllib3\n",
    "import configparser\n",
    "\n",
    "config = configparser.ConfigParser()\n",
    "config.read('credentials.ini')\n",
    "\n",
    "MDM_add = config['API']['MDM_add']\n",
    "MDM_user = config['API']['MDM_username']\n",
    "MDM_password = config['API']['MDM_password']\n",
    "HES_add = config['API']['HES_add']\n",
    "HES_user = config['API']['HES_username']\n",
    "HES_password = config['API']['HES_password']"
   ]
  },
  {
   "cell_type": "code",
   "execution_count": 17,
   "id": "e802c4c2-3b4d-4cdc-a973-f57d91aa5521",
   "metadata": {},
   "outputs": [
    {
     "name": "stdout",
     "output_type": "stream",
     "text": [
      "***** Where do you want to get data from HES or MDM*****\n"
     ]
    },
    {
     "name": "stdin",
     "output_type": "stream",
     "text": [
      "Enter the data source (HES or MDM):  MDM\n"
     ]
    }
   ],
   "source": [
    "print(\"***** Where do you want to get data from HES or MDM*****\")\n",
    "while True:\n",
    "    data_source = input(\"Enter the data source (HES or MDM): \").strip()\n",
    "\n",
    "    if data_source == \"HES\":\n",
    "        add = HES_add\n",
    "        user = HES_user\n",
    "        password = HES_password\n",
    "        break\n",
    "    elif data_source == \"MDM\":\n",
    "        add = MDM_add\n",
    "        user = MDM_user\n",
    "        password = MDM_password\n",
    "        break\n",
    "    else:\n",
    "        print(\"Invalid choice. Please enter either 'HES' or 'MDM'.\")\n"
   ]
  },
  {
   "cell_type": "code",
   "execution_count": 18,
   "id": "a1492fd1-a011-46f0-9120-8df5f351606b",
   "metadata": {},
   "outputs": [
    {
     "name": "stdout",
     "output_type": "stream",
     "text": [
      "https://zonos.dvc.engrid.in/zonos-api\n"
     ]
    }
   ],
   "source": [
    "print(add)"
   ]
  },
  {
   "cell_type": "code",
   "execution_count": 19,
   "id": "4f71c374-5d71-418f-8e87-7b78c345d8bc",
   "metadata": {},
   "outputs": [
    {
     "name": "stdin",
     "output_type": "stream",
     "text": [
      "Enter the profile you want to extract data for (Billing or Daily):  Billing\n",
      "Enter the month (e.g., January) or press Enter to use the current month:  \n",
      "Enter the year (e.g., 2024) or press Enter to use the current year:  \n"
     ]
    }
   ],
   "source": [
    "def billing_time_data(month: str = None, year: int = None, start_hour: int = 18, start_minute: int = 29):\n",
    "    # Use current year and month if not provided\n",
    "    now = datetime.now()\n",
    "    if year is None:\n",
    "        year = now.year\n",
    "    if month is None:\n",
    "        month = now.strftime('%B')\n",
    "    \n",
    "    month = month.capitalize()\n",
    "    cur_start_date = datetime(year, list(calendar.month_name).index(month), \n",
    "                              calendar.monthrange(year, list(calendar.month_name).index(month))[1],\n",
    "                              start_hour, start_minute)\n",
    "    start_time_cur = cur_start_date.strftime(\"%Y-%m-%dT%H:%M:%SZ\")\n",
    "    end_time_cur = (cur_start_date + timedelta(minutes=2)).strftime(\"%Y-%m-%dT%H:%M:%SZ\")        \n",
    "    return start_time_cur, end_time_cur\n",
    "\n",
    "\n",
    "def daily_time_data(day: int = None, month: str = None, year: int = None, start_hour: int = 18, start_minute: int = 29):\n",
    "    now = datetime.now()\n",
    "    if year is None:\n",
    "        year = now.year\n",
    "    if month is None:\n",
    "        month = now.strftime('%B')\n",
    "    month = month.capitalize()\n",
    "    if day is None:\n",
    "        day = now.day\n",
    "        month = now.strftime('%B')\n",
    "        year = now.year  \n",
    "    cur_start_date = datetime(year, list(calendar.month_name).index(month), day, start_hour, start_minute)\n",
    "    start_time_cur = cur_start_date.strftime(\"%Y-%m-%dT%H:%M:%SZ\")\n",
    "    end_time_cur = (cur_start_date + timedelta(minutes=2)).strftime(\"%Y-%m-%dT%H:%M:%SZ\")\n",
    "    return start_time_cur, end_time_cur\n",
    "\n",
    "\n",
    "while True:\n",
    "    profile = input(\"Enter the profile you want to extract data for (Billing or Daily): \").strip().lower()\n",
    "    if profile == \"billing\":\n",
    "        prof = \"1-0:98.1.0*255\"\n",
    "        tprof = \"Billing Profile\"\n",
    "        while True:\n",
    "            try:\n",
    "                month_input = input(\"Enter the month (e.g., January) or press Enter to use the current month: \")\n",
    "                year_input = input(\"Enter the year (e.g., 2024) or press Enter to use the current year: \")\n",
    "                month = month_input if month_input else None\n",
    "                year = int(year_input) if year_input else None\n",
    "                start_time_cur, to_time_cur = billing_time_data(month, year)\n",
    "                break\n",
    "            except (ValueError, IndexError):\n",
    "                print(\"Invalid date. Please try again.\")\n",
    "        break\n",
    "    elif profile == \"daily\":\n",
    "        prof = \"1-0:99.2.0*255\"\n",
    "        tprof = \"Daily Profile\"\n",
    "        while True:\n",
    "            try:\n",
    "                year_input = input(\"Enter the year (e.g., 2024) or press Enter to use the current year: \")\n",
    "                month_input = input(\"Enter the month (e.g., January) or press Enter to use the current month: \")\n",
    "                day_input = input(\"Enter the day (e.g., 31) or press Enter to use today's date: \")\n",
    "                month = month_input if month_input else None\n",
    "                year = int(year_input) if year_input else None\n",
    "                day = int(day_input) if day_input else None\n",
    "                start_time_cur, to_time_cur = daily_time_data(day, month, year)\n",
    "                break\n",
    "            except (ValueError, IndexError):\n",
    "                print(\"Invalid Date. Please try again\")\n",
    "        break\n",
    "            \n",
    "    else:\n",
    "        print(\"Invalid choice. Please enter either 'billing' or 'daily'.\")\n",
    "        \n"
   ]
  },
  {
   "cell_type": "code",
   "execution_count": 21,
   "id": "77b6ae9d-2915-4001-a291-07fd3dac4bd8",
   "metadata": {},
   "outputs": [
    {
     "name": "stdout",
     "output_type": "stream",
     "text": [
      "Data Will Be Extracted For Following: \n",
      "======================================\n",
      "Data Source   : MDM\n",
      "Profile       : Billing Profile\n",
      "Profile Value : 1-0:98.1.0*255\n",
      "Start Time    : 2024-09-30T18:29:00Z\n",
      "End Time      : 2024-09-30T18:31:00Z\n"
     ]
    }
   ],
   "source": [
    "end_date_part = start_time_cur.split(\"T\")[0]\n",
    "\n",
    "print(\"Data Will Be Extracted For Following: \")\n",
    "print(\"======================================\")\n",
    "print(f\"Data Source   : {data_source}\")\n",
    "print(f\"Profile       : {tprof}\")\n",
    "print(f\"Profile Value : {prof}\")\n",
    "print(f\"Start Time    : {start_time_cur}\")\n",
    "print(f\"End Time      : {to_time_cur}\")\n"
   ]
  },
  {
   "cell_type": "code",
   "execution_count": 14,
   "id": "48c9ebbb-6dc7-4b3e-8071-4a08d8bccc33",
   "metadata": {},
   "outputs": [],
   "source": [
    "def get_devices(add, user, password):\n",
    "    url= f\"{add}/api/1/devices/\"\n",
    "    print(url)\n",
    "    try:\n",
    "        r = requests.get(url, auth=(MDM_user, MDM_password), verify=False)\n",
    "        r.raise_for_status()\n",
    "    except requests.exceptions.RequestException as e:\n",
    "        print(f\"Request Error: {e}\")\n",
    "        return []\n",
    "    \n",
    "    device = r.json()\n",
    "    \n",
    "    del_key = ['communicationId', 'typeId', 'typeName', 'templateId', 'templateName', 'managementState', 'description', 'manufacturer', 'model', 'parentId', 'location', 'storeData', 'groupId']\n",
    "    for item in device:\n",
    "        for k in del_key:\n",
    "            item.pop(k, None)\n",
    "    return device"
   ]
  },
  {
   "cell_type": "code",
   "execution_count": 12,
   "id": "8915171b-1b2c-42e0-8eb4-e5a656056aca",
   "metadata": {},
   "outputs": [],
   "source": [
    "def get_profile_data(address, username, password, profile, devlist, from_time, to_time):\n",
    "    m_values_kwh = []\n",
    "    m_values_kvah = []\n",
    "    for device in devlist:\n",
    "        device_id = device.get('id', 'N/A')\n",
    "        groupName = device.get('groupName', 'N/A')\n",
    "        url = f\"{address}/api/1/devices/{device_id}/profiles/{profile}/entries?from={from_time}&to={to_time}\"\n",
    "        try:\n",
    "            r = requests.get(url, auth=(username, password), verify=False)\n",
    "            r.raise_for_status()\n",
    "        except requests.exceptions.RequestException as e:\n",
    "            print(f\"Request Error: {e}\")\n",
    "            continue\n",
    "        response_dict = r.json()\n",
    "        entries = response_dict.get(\"entries\", [])\n",
    "        if entries:\n",
    "            first_entry = entries[0]\n",
    "            metered_value = first_entry.get(\"meteredValues\", [])\n",
    "\n",
    "            for item in metered_value:\n",
    "                if item[\"registerId\"] == \"1-0:1.8.0*255\":\n",
    "                    item[\"device\"] = device_id\n",
    "                    item[\"profile\"] = profile\n",
    "                    item[\"groupName\"] = groupName\n",
    "                    m_values_kwh.append(item)\n",
    "                elif item[\"registerId\"] == \"1-0:9.8.0*255\":\n",
    "                    item[\"device\"] = device_id\n",
    "                    item[\"profile\"] = profile\n",
    "                    item[\"groupName\"] = groupName\n",
    "                    m_values_kvah.append(item)\n",
    "    return m_values_kwh, m_values_kvah\n",
    "\n",
    "def check_data_availability(dev_list, value_curr_kwh):\n",
    "    devices_with_data = [item['device'] for item in value_curr_kwh]\n",
    "    result_list = []\n",
    "    \n",
    "    for item in dev_list:\n",
    "        device = item.get('id')\n",
    "        is_data_available = device in devices_with_data\n",
    "        measured_at = next((entry['measuredAt'] for entry in value_curr_kwh if entry['device'] == device), to_time_cur)\n",
    "        result_list.append({\n",
    "            'groupName': item.get('groupName'),\n",
    "            'device': device,\n",
    "            'isDataAvailable': is_data_available,\n",
    "            'measuredAt': measured_at\n",
    "        })\n",
    "    return result_list\n",
    "\n",
    "def write_dicts_to_csv(dict_list, file_name):\n",
    "    if not dict_list:\n",
    "        print(\"The list of dictionaries is empty.\")\n",
    "        return\n",
    "    headers = dict_list[0].keys()\n",
    "    try:\n",
    "        with open(file_name, 'w', newline='') as csv_file:\n",
    "            writer = csv.DictWriter(csv_file, fieldnames=headers)\n",
    "            writer.writeheader()\n",
    "            writer.writerows(dict_list)\n",
    "        print(f\"Data successfully written to {file_name}\")\n",
    "    except IOError:\n",
    "        print(\"I/O error occurred while writing to the file.\")\n",
    "\n"
   ]
  },
  {
   "cell_type": "code",
   "execution_count": 15,
   "id": "6899ce3c-f70f-4109-9ba7-bd05b54740cc",
   "metadata": {},
   "outputs": [
    {
     "name": "stdout",
     "output_type": "stream",
     "text": [
      "https://zonos.dvc.engrid.in/zonos-api/api/1/devices/\n",
      "Request Error: 404 Client Error: Not Found for url: https://zonos.dvc.engrid.in/zonos-api\n"
     ]
    },
    {
     "name": "stderr",
     "output_type": "stream",
     "text": [
      "/usr/local/lib/python3.6/site-packages/urllib3/connectionpool.py:1070: InsecureRequestWarning: Unverified HTTPS request is being made to host 'zonos.dvc.engrid.in'. Adding certificate verification is strongly advised. See: https://urllib3.readthedocs.io/en/1.26.x/advanced-usage.html#ssl-warnings\n",
      "  InsecureRequestWarning,\n"
     ]
    }
   ],
   "source": [
    "dev_list = get_devices(MDM_add, MDM_user, MDM_password)"
   ]
  }
 ],
 "metadata": {
  "kernelspec": {
   "display_name": "Python 3",
   "language": "python",
   "name": "python3"
  },
  "language_info": {
   "codemirror_mode": {
    "name": "ipython",
    "version": 3
   },
   "file_extension": ".py",
   "mimetype": "text/x-python",
   "name": "python",
   "nbconvert_exporter": "python",
   "pygments_lexer": "ipython3",
   "version": "3.6.8"
  }
 },
 "nbformat": 4,
 "nbformat_minor": 5
}
