{
 "cells": [
  {
   "cell_type": "code",
   "execution_count": 3,
   "id": "4404b923-865b-4b2a-b735-d3b398602b5b",
   "metadata": {},
   "outputs": [
    {
     "name": "stdout",
     "output_type": "stream",
     "text": [
      "For Billing Profile Write 'Billing' and hit enter\n",
      "For Daily Profile Write 'Daily' and hit enter\n",
      "For BlockLoad Profile Write 'BlockLoad' and hit enter\n",
      "For Instantaneous Profile Write 'Instantaneous' and hit enter\n"
     ]
    },
    {
     "name": "stdin",
     "output_type": "stream",
     "text": [
      "Enter the profile you want to get data for:  avnish\n"
     ]
    },
    {
     "name": "stdout",
     "output_type": "stream",
     "text": [
      "Invalid profile, please try again.\n",
      "\n",
      "For Billing Profile Write 'Billing' and hit enter\n",
      "For Daily Profile Write 'Daily' and hit enter\n",
      "For BlockLoad Profile Write 'BlockLoad' and hit enter\n",
      "For Instantaneous Profile Write 'Instantaneous' and hit enter\n"
     ]
    },
    {
     "name": "stdin",
     "output_type": "stream",
     "text": [
      "Enter the profile you want to get data for:  Daily\n"
     ]
    },
    {
     "name": "stdout",
     "output_type": "stream",
     "text": [
      "Profile selected: Daily, Code: 1-0:99.2.0*255\n"
     ]
    }
   ],
   "source": [
    "profile_matrix = {\n",
    "    \"Billing\": \"1-0:98.1.0*255\",\n",
    "    \"Daily\": \"1-0:99.2.0*255\",\n",
    "    \"BlockLoad\": \"1-0:99.1.0*255\",\n",
    "    \"Instantaneous\": \"1-0:94.91.0*255\"\n",
    "}\n",
    "\n",
    "while True:\n",
    "    print(\"For Billing Profile Write 'Billing' and hit enter\")\n",
    "    print(\"For Daily Profile Write 'Daily' and hit enter\")\n",
    "    print(\"For BlockLoad Profile Write 'BlockLoad' and hit enter\")\n",
    "    print(\"For Instantaneous Profile Write 'Instantaneous' and hit enter\")\n",
    "    \n",
    "    prof = input(\"Enter the profile you want to get data for: \")\n",
    "    \n",
    "    profile = profile_matrix.get(prof)\n",
    "    \n",
    "    if profile:\n",
    "        print(f\"Profile selected: {prof}, Code: {profile}\")\n",
    "        break  # Exit the loop if valid input is provided\n",
    "    else:\n",
    "        print(\"Invalid profile, please try again.\\n\")"
   ]
  }
 ],
 "metadata": {
  "kernelspec": {
   "display_name": "Python 3",
   "language": "python",
   "name": "python3"
  },
  "language_info": {
   "codemirror_mode": {
    "name": "ipython",
    "version": 3
   },
   "file_extension": ".py",
   "mimetype": "text/x-python",
   "name": "python",
   "nbconvert_exporter": "python",
   "pygments_lexer": "ipython3",
   "version": "3.6.8"
  }
 },
 "nbformat": 4,
 "nbformat_minor": 5
}
