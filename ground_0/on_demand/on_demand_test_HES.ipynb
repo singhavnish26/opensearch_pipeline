{
 "cells": [
  {
   "cell_type": "code",
   "execution_count": 4,
   "id": "56fa9635-8f4e-4a5c-98b0-bb4e622e4896",
   "metadata": {},
   "outputs": [],
   "source": [
    "import datetime\n",
    "from datetime import datetime, timedelta\n",
    "import calendar\n",
    "import requests\n",
    "import json\n",
    "import urllib3\n",
    "import configparser\n",
    "config = configparser.ConfigParser()\n"
   ]
  },
  {
   "cell_type": "code",
   "execution_count": 5,
   "id": "f0157c14-2c0a-4768-8528-d3264f5af19d",
   "metadata": {},
   "outputs": [],
   "source": [
    "config.read('credentials.ini')\n",
    "urllib3.disable_warnings(urllib3.exceptions.InsecureRequestWarning)\n",
    "#Assign MDM credentials\n",
    "MDMadd = config['API']['MDM_add']\n",
    "MDM_user = config['API']['MDM_username']\n",
    "MDM_password = config['API']['MDM_password']\n",
    "\n",
    "#Assign HES credentials\n",
    "HESadd = config['API']['HES_add']\n",
    "HES_user = config['API']['HES_username']\n",
    "HES_password = config['API']['HES_password']"
   ]
  },
  {
   "cell_type": "code",
   "execution_count": 6,
   "id": "11e8faa3-db9c-4e14-a8cf-4c7372bb05cd",
   "metadata": {},
   "outputs": [],
   "source": [
    "def get_devices():\n",
    "    try:\n",
    "        r = requests.get(url1, auth=(MDM_user, MDM_password), verify=False)\n",
    "        r.raise_for_status()\n",
    "    except requests.exceptions.RequestException as e:\n",
    "        print(f\"Request Error: {e}\")\n",
    "        return []\n",
    "    \n",
    "    device = r.json()\n",
    "    \n",
    "    del_key = ['communicationId', 'typeId', 'typeName', 'templateId', 'templateName', 'managementState', 'description', 'manufacturer', 'model', 'parentId', 'location', 'storeData', 'groupId']\n",
    "    for item in device:\n",
    "        for k in del_key:\n",
    "            item.pop(k, None)\n",
    "    return device"
   ]
  },
  {
   "cell_type": "code",
   "execution_count": 7,
   "id": "cbfbf098-0b8a-4d19-bc62-0bbedcb7fc12",
   "metadata": {},
   "outputs": [],
   "source": [
    "def get_profile_data(profile, devlist, from_time, to_time):\n",
    "    m_values_kwh = []\n",
    "    m_values_kvah = []\n",
    "    for device in devlist:\n",
    "        device_id = device.get('id', 'N/A')\n",
    "        groupName = device.get('groupName', 'N/A')\n",
    "        url2 = f\"{HESadd}/api/1/devices/{device_id}/profiles/{profile}/entries?from={from_time}&to={to_time}\"\n",
    "        try:\n",
    "            r2 = requests.get(url2, auth=(HES_user, HES_password), verify=False)\n",
    "            r2.raise_for_status()\n",
    "        except requests.exceptions.RequestException as e:\n",
    "            print(f\"Request Error: {e}\")\n",
    "            continue\n",
    "        \n",
    "        response_dict = r2.json()\n",
    "        entries = response_dict.get(\"entries\", [])\n",
    "        if entries:\n",
    "            first_entry = entries[0]\n",
    "            metered_value = first_entry.get(\"meteredValues\", [])\n",
    "\n",
    "            for item in metered_value:\n",
    "                if item[\"registerId\"] == \"1-0:1.8.0*255\":\n",
    "                    item[\"device\"] = device_id\n",
    "                    item[\"profile\"] = profile\n",
    "                    item[\"groupName\"] = groupName\n",
    "                    m_values_kwh.append(item)\n",
    "                elif item[\"registerId\"] == \"1-0:9.8.0*255\":\n",
    "                    item[\"device\"] = device_id\n",
    "                    item[\"profile\"] = profile\n",
    "                    item[\"groupName\"] = groupName\n",
    "                    m_values_kvah.append(item)\n",
    "    \n",
    "    return m_values_kwh, m_values_kvah"
   ]
  },
  {
   "cell_type": "code",
   "execution_count": 9,
   "id": "12dfec53-cd5f-49de-9998-3a47d7d9fc26",
   "metadata": {},
   "outputs": [],
   "source": [
    "def check_data_availability(dev_list, value_curr_kwh):\n",
    "    devices_with_data = [item['device'] for item in value_curr_kwh]\n",
    "    result_list = []\n",
    "    \n",
    "    for item in dev_list:\n",
    "        device = item.get('id')\n",
    "        is_data_available = device in devices_with_data\n",
    "        measured_at = next((entry['measuredAt'] for entry in value_curr_kwh if entry['device'] == device), to_time_cur)\n",
    "        result_list.append({\n",
    "            'groupName': item.get('groupName'),\n",
    "            'device': device,\n",
    "            'isDataAvailable': is_data_available,\n",
    "            'measuredAt': measured_at\n",
    "        })\n",
    "    \n",
    "    return result_list"
   ]
  },
  {
   "cell_type": "code",
   "execution_count": 19,
   "id": "1a544e26-0b1a-461b-9670-dbbfae9b75c6",
   "metadata": {},
   "outputs": [],
   "source": [
    "def generate_time_data(month: str = None, year: int = None, start_hour: int = 18, start_minute: int = 29):\n",
    "    # Use current year and month if not provided\n",
    "    now = datetime.now()\n",
    "    if year is None:\n",
    "        year = now.year\n",
    "    if month is None:\n",
    "        month = now.strftime('%B')\n",
    "    \n",
    "    month = month.capitalize()\n",
    "    cur_start_date = datetime(year, list(calendar.month_name).index(month), \n",
    "                              calendar.monthrange(year, list(calendar.month_name).index(month))[1],\n",
    "                              start_hour, start_minute)\n",
    "    \n",
    "    # Define current and previous times\n",
    "    start_time_cur = cur_start_date.strftime(\"%Y-%m-%dT%H:%M:%SZ\")\n",
    "    end_time_cur = (cur_start_date + timedelta(minutes=2)).strftime(\"%Y-%m-%dT%H:%M:%SZ\")\n",
    "    \n",
    "    # Adjust to the previous month\n",
    "    prev_start_date = cur_start_date - timedelta(days=cur_start_date.day)\n",
    "    start_time_prev = prev_start_date.strftime(\"%Y-%m-%dT%H:%M:%SZ\")\n",
    "    end_time_prev = (prev_start_date + timedelta(minutes=2)).strftime(\"%Y-%m-%dT%H:%M:%SZ\")\n",
    "    \n",
    "    # Construct the dictionary\n",
    "    time_data = {\n",
    "        \"start_time_cur\": start_time_cur,\n",
    "        \"to_time_cur\": end_time_cur,\n",
    "        \"start_time_prev\": start_time_prev,\n",
    "        \"to_time_prev\": end_time_prev\n",
    "        }\n",
    "    \n",
    "    return time_data\n"
   ]
  },
  {
   "cell_type": "code",
   "execution_count": null,
   "id": "abf0e741-53eb-4299-a377-081d6846b50c",
   "metadata": {},
   "outputs": [],
   "source": [
    "def write_dicts_to_csv(dict_list, file_name):\n",
    "    if not dict_list:\n",
    "        print(\"The list of dictionaries is empty.\")\n",
    "        return\n",
    "    headers = dict_list[0].keys()\n",
    "    try:\n",
    "        with open(file_name, 'w', newline='') as csv_file:\n",
    "            writer = csv.DictWriter(csv_file, fieldnames=headers)\n",
    "            writer.writeheader()\n",
    "            writer.writerows(dict_list)\n",
    "        print(f\"Data successfully written to {file_name}\")\n",
    "    except IOError:\n",
    "        print(\"I/O error occurred while writing to the file.\")"
   ]
  },
  {
   "cell_type": "code",
   "execution_count": 20,
   "id": "961a8776-da92-44f4-8f82-6c923eb1f635",
   "metadata": {},
   "outputs": [
    {
     "name": "stdin",
     "output_type": "stream",
     "text": [
      "Enter the profile value:  billing\n",
      "Enter the month (e.g., January) or press Enter to use the current month:  August\n",
      "Enter the year (e.g., 2024) or press Enter to use the current year:  \n"
     ]
    }
   ],
   "source": [
    "profile=input(\"Enter the profile value: \")\n",
    "month_input = input(\"Enter the month (e.g., January) or press Enter to use the current month: \")\n",
    "year_input = input(\"Enter the year (e.g., 2024) or press Enter to use the current year: \")\n",
    "month = month_input if month_input else None\n",
    "year = int(year_input) if year_input else None\n",
    "time_data = generate_time_data(month, year)\n",
    "start_time_cur=time_data.get(\"start_time_cur\")\n",
    "to_time_cur=time_data.get(\"to_time_cur\")\n",
    "end_date_part = start_time_cur.split(\"T\")[0]"
   ]
  },
  {
   "cell_type": "code",
   "execution_count": null,
   "id": "12cca13b-642f-4506-a343-770d26c133e8",
   "metadata": {},
   "outputs": [],
   "source": [
    "dev_list = get_devices()\n",
    "print(f\"Starting Extracting Data for Current Month {len(dev_list)} Devices at: {datetime.now()}\")\n",
    "value_curr_kwh, value_curr_kvah = get_profile_data(profile, dev_list, start_time_cur, to_time_cur)\n",
    "data_avail=check_data_availability(dev_list,value_curr_kwh)\n",
    "print(f\"Recieved KVAH & KWH Data for Current Month for {len(value_curr_kwh)} Devices at: {datetime.datetime.now()}\")\n",
    "print(\"Data Extraction Complete\")"
   ]
  },
  {
   "cell_type": "code",
   "execution_count": null,
   "id": "b4d01c6b-a40f-4bbf-add2-c1369ea84516",
   "metadata": {},
   "outputs": [],
   "source": [
    "write_dicts_to_csv(dev_list, f\"MDM_Device_List_{end_date_part}.csv\")\n",
    "write_dicts_to_csv(value_curr_kwh, f\"HES_value_kwh_{end_date_part}.csv\")\n",
    "write_dicts_to_csv(value_curr_kvah, f\"HES_value_kvah_{end_date_part}.csv\")\n",
    "write_dicts_to_csv(data_avail, f\"HES_data_avail_{end_date_part}.csv\")\n",
    "print(\"Data Written to CSV File\")"
   ]
  }
 ],
 "metadata": {
  "kernelspec": {
   "display_name": "Python 3",
   "language": "python",
   "name": "python3"
  },
  "language_info": {
   "codemirror_mode": {
    "name": "ipython",
    "version": 3
   },
   "file_extension": ".py",
   "mimetype": "text/x-python",
   "name": "python",
   "nbconvert_exporter": "python",
   "pygments_lexer": "ipython3",
   "version": "3.6.8"
  }
 },
 "nbformat": 4,
 "nbformat_minor": 5
}
