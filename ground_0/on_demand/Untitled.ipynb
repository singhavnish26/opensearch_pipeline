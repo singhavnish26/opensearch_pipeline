{
 "cells": [
  {
   "cell_type": "code",
   "execution_count": 9,
   "id": "b739df1f-12ab-4255-9e1e-606594b7c836",
   "metadata": {},
   "outputs": [
    {
     "name": "stdout",
     "output_type": "stream",
     "text": [
      "============================================================\n",
      "***** Where do you want to get data from HES or MDM *****\n",
      "============================================================\n",
      "============================================================\n",
      "********Data Will Be Extracted For Following********\n",
      "============================================================\n"
     ]
    }
   ],
   "source": [
    "print(f\"{'='*60}\\n***** Where do you want to get data from HES or MDM *****\\n{'='*60}\")\n",
    "print(f\"{'='*60}\\n********Data Will Be Extracted For Following********\\n{'='*60}\")"
   ]
  }
 ],
 "metadata": {
  "kernelspec": {
   "display_name": "Python 3",
   "language": "python",
   "name": "python3"
  },
  "language_info": {
   "codemirror_mode": {
    "name": "ipython",
    "version": 3
   },
   "file_extension": ".py",
   "mimetype": "text/x-python",
   "name": "python",
   "nbconvert_exporter": "python",
   "pygments_lexer": "ipython3",
   "version": "3.6.8"
  }
 },
 "nbformat": 4,
 "nbformat_minor": 5
}
