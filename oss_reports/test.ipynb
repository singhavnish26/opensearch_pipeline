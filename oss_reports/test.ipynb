{
 "cells": [
  {
   "cell_type": "code",
   "execution_count": 372,
   "id": "96e8af42",
   "metadata": {},
   "outputs": [],
   "source": [
    "#!/usr/bin/env python3\n",
    "\n",
    "import time\n",
    "import json\n",
    "import urllib3\n",
    "import requests\n",
    "import logging\n",
    "from datetime import datetime\n",
    "from opensearchpy import OpenSearch\n",
    "from opensearch_helper import OSWriter\n",
    "import warnings\n",
    "warnings.filterwarnings(\"ignore\", category=UserWarning, module=\"opensearchpy\")"
   ]
  },
  {
   "cell_type": "code",
   "execution_count": 373,
   "id": "67ce4da7",
   "metadata": {},
   "outputs": [],
   "source": [
    "MDMSaddress = \"http://100.102.4.10:8081/zonos-api\"\n",
    "muser, msecret = \"mdm_dvc_admin\", \"Hb1VNBRD8WLAu27B\"\n",
    "url = f\"{MDMSaddress}/api/1/devices\"\n",
    "url1 = MDMSaddress+\"/api/1/devices\"\n",
    "url2 = MDMSaddress+\"/api/1/bulk/device-profiles/metered-data/get\"\n",
    "urllib3.disable_warnings(urllib3.exceptions.InsecureRequestWarning)"
   ]
  },
  {
   "cell_type": "code",
   "execution_count": 395,
   "id": "f1028536",
   "metadata": {},
   "outputs": [],
   "source": [
    "group_to_state = {\n",
    "        \"Bokaro\": \"Jharkhand\",\n",
    "        \"Chandrapura\": \"Jharkhand\",\n",
    "        \"Durgapur\": \"West Bengal\",\n",
    "        \"Koderma\": \"Jharkhand\",\n",
    "        \"Mejia\": \"West Bengal\",\n",
    "        \"Panchet\": \"Jharkhand\",\n",
    "        \"Raghunathpur\": \"West Bengal\"\n",
    "    }\n",
    "def split_group(group):\n",
    "    lstring = group.split()\n",
    "    #state = None  # Ensure state is always defined\n",
    "\n",
    "    #Finding Consumer type\n",
    "    if \"domestic\" in group.lower():\n",
    "        consumerType = \"Domestic\"\n",
    "    elif \"commercial\" in group.lower():\n",
    "        consumerType = \"Commercial\"\n",
    "    else:\n",
    "        consumerType = \"Unknown\"\n",
    "\n",
    "    #Finding Pay Type\n",
    "    if \"prepaid\" in group.lower():\n",
    "        payType = \"Prepaid\"\n",
    "    elif \"postpaid\" in group.lower():\n",
    "        payType = \"Postpaid\"\n",
    "    else:\n",
    "        payType = \"Unknown\"\n",
    "    #Finding State\n",
    "    if lstring[0] == \"Maithon\" or lstring[0] == \"Maithon/GOMDs\":\n",
    "        if \"JH\" in lstring:\n",
    "            state = \"Jharkhand\"\n",
    "        elif \"WB\" in lstring:\n",
    "            state = \"West Bengal\"\n",
    "        else:\n",
    "            state = None  # State remains None if neither JH nor WB is found\n",
    "    else:\n",
    "        state = group_to_state.get(lstring[0])\n",
    "\n",
    "    items_to_remove = [\"Commercial\", \"Domestic\", \"Prepaid\", \"Postpaid\", \"JH\", \"WB\", \"prepaid\", \"postpaid\", \"domestic\", \"commercial\"]\n",
    "    group_name = ' '.join([word for word in lstring if word not in items_to_remove])\n",
    "    result = {\"groupName\": group_name, \"state\": state, \"consumerType\": consumerType, \"payType\": payType}\n",
    "    return result"
   ]
  },
  {
   "cell_type": "code",
   "execution_count": 396,
   "id": "88b01dac",
   "metadata": {},
   "outputs": [],
   "source": [
    "def get_devices():\n",
    "    notOver = True\n",
    "    while notOver:\n",
    "        try:\n",
    "            #logger.debug(\"Sending request to MDM API: %s\", url1)\n",
    "            r = requests.get(url1, verify=False, auth=(muser, msecret))\n",
    "            r.raise_for_status()\n",
    "            #logger.info(\"Successfully fetched device data from MDM API\")\n",
    "            notOver = False\n",
    "        except requests.exceptions.HTTPError as errh:\n",
    "            #logger.error(\"HTTP Error: %s\", errh)\n",
    "            continue\n",
    "        except requests.exceptions.ConnectionError as errc:\n",
    "            #logger.error(\"Connection Error: %s\", errc)\n",
    "            continue\n",
    "        except requests.exceptions.Timeout as errt:\n",
    "            #logger.error(\"Timeout Error: %s\", errt)\n",
    "            continue\n",
    "        except requests.exceptions.RequestException as err:\n",
    "            #logger.error(\"Other Error: %s\", err)\n",
    "            continue\n",
    "    devList = json.loads(r.content.decode('utf-8'))\n",
    "#    logger.debug(\"Received device list: %s\", devList)\n",
    "    return devList"
   ]
  },
  {
   "cell_type": "code",
   "execution_count": null,
   "id": "4b54ebc4",
   "metadata": {},
   "outputs": [],
   "source": [
    "devices = get_devices()"
   ]
  },
  {
   "cell_type": "code",
   "execution_count": 397,
   "id": "9222b62d",
   "metadata": {},
   "outputs": [],
   "source": [
    "devices_v2 = []\n",
    "for item in devices:\n",
    "    result = split_group(item[\"groupName\"])\n",
    "    # Handle lastConnection safely (epoch seconds)\n",
    "    last_connection = item[\"lastConnection\"] if item[\"lastConnection\"] is not None else 0\n",
    "    delta = int(time.time()) - last_connection\n",
    "    devices_v2.append({\n",
    "        \"deviceId\": item[\"id\"],\n",
    "        \"group\": result\n",
    "    })"
   ]
  },
  {
   "cell_type": "code",
   "execution_count": 398,
   "id": "8955cc8f",
   "metadata": {},
   "outputs": [
    {
     "name": "stdout",
     "output_type": "stream",
     "text": [
      "{'deviceId': 'ISKIE077058', 'group': {'groupName': 'Panchet', 'state': 'Jharkhand', 'consumerType': 'Commercial', 'payType': 'Prepaid'}}\n"
     ]
    }
   ],
   "source": [
    "for item in devices_v2[:1]:\n",
    "    print(item)"
   ]
  },
  {
   "cell_type": "code",
   "execution_count": null,
   "id": "479b7e52",
   "metadata": {},
   "outputs": [
    {
     "name": "stdout",
     "output_type": "stream",
     "text": [
      "Frome time:  2025-09-17T18:29:00Z\n",
      "To time:  2025-09-17T18:31:00Z\n",
      "MeasuredaAt:  2025-09-17T18:30:00Z\n"
     ]
    }
   ],
   "source": [
    "ALLOWED_REGS = {\n",
    "    \"1-0:2.8.0*255\",\n",
    "    \"1-0:10.8.0*255\",\n",
    "    \"1-0:1.8.0*255\",\n",
    "    \"1-0:9.8.0*255\"\n",
    "}\n",
    "fromTime, toTime, msmtTime = [\n",
    "    (datetime.utcnow() - timedelta(days=1)).strftime(f\"%Y-%m-%dT{t}:00Z\")\n",
    "    for t in (\"18:29\", \"18:31\", \"18:30\")\n",
    "]\n"
   ]
  },
  {
   "cell_type": "code",
   "execution_count": 403,
   "id": "edf33786",
   "metadata": {},
   "outputs": [],
   "source": [
    "batchSize = 2000\n",
    "count = 1\n",
    "postData = []\n",
    "batchDeviceList = []\n",
    "batchGroupList = []\n",
    "deviceList = []\n",
    "groupList = []\n",
    "for item in devices_v2:\n",
    "    deviceList.append(item['deviceId'])\n",
    "    groupList.append(item[\"group\"])\n",
    "# Accumulator for all returned rows across batches\n",
    "data_dictionary = []"
   ]
  },
  {
   "cell_type": "code",
   "execution_count": null,
   "id": "e0ed8a0c",
   "metadata": {},
   "outputs": [],
   "source": [
    "# Accumulator for all returned rows across batches\n",
    "data_dictionary = []\n",
    "\n",
    "# url2 already set above\n",
    "for idx, deviceId in enumerate(deviceList):\n",
    "    postData.append({\"device\": deviceId, \"profile\": \"1-0:99.2.0*255\", \"from\": fromTime, \"to\": toTime})\n",
    "    batchDeviceList.append(deviceId)\n",
    "    batchGroupList.append(groupList[idx])\n",
    "\n",
    "    if (len(postData) == batchSize) or (count == len(devicesFiltered)):\n",
    "        notOver = True\n",
    "        while notOver:\n",
    "            try:\n",
    "                r = requests.post(url2, json=postData, verify=False, auth=(muser, msecret))\n",
    "                r.raise_for_status()\n",
    "                notOver = False\n",
    "            except requests.exceptions.HTTPError as errh:\n",
    "                continue\n",
    "            except requests.exceptions.ConnectionError as errc:\n",
    "                continue\n",
    "            except requests.exceptions.Timeout as errt:\n",
    "                continue\n",
    "            except requests.exceptions.RequestException as err:\n",
    "                continue\n",
    "\n",
    "        returnJSON = json.loads(r.content.decode('utf-8'))\n",
    "\n",
    "        # Map returned entries back to the batch device/group lists by position\n",
    "        j = 0\n",
    "        for entry in returnJSON:\n",
    "            if entry.get(\"success\"):\n",
    "                valueList = entry.get(\"value\", [])\n",
    "                for value in valueList:\n",
    "                    for registerValue in value.get(\"meteredValues\", []):\n",
    "                        reg_id = registerValue.get(\"registerId\")\n",
    "                        if not reg_id or reg_id not in ALLOWED_REGS:\n",
    "                            continue\n",
    "                        data_dictionary.append({\n",
    "                            \"deviceId\": batchDeviceList[j],\n",
    "                            \"groupName\": batchGroupList[j],\n",
    "                            \"registerId\": registerValue.get(\"registerId\"),  # <-- fixed name\n",
    "                            \"unit\": registerValue.get(\"unit\"),\n",
    "                            \"value\": registerValue.get(\"value\"),\n",
    "                            \"measuredAt\": registerValue.get(\"measuredAt\")\n",
    "                        })\n",
    "            j += 1\n",
    "\n",
    "        # Reset for next batch\n",
    "        postData = []\n",
    "        batchDeviceList = []\n",
    "        batchGroupList = []\n",
    "\n",
    "    count += 1\n",
    "\n"
   ]
  },
  {
   "cell_type": "code",
   "execution_count": 417,
   "id": "8ba314ab",
   "metadata": {},
   "outputs": [
    {
     "name": "stdout",
     "output_type": "stream",
     "text": [
      "{'groupName': 'Durgapur Steel TPS', 'state': 'West Bengal', 'consumerType': 'Domestic', 'payType': 'Postpaid'}\n",
      "{'groupName': 'Durgapur Steel TPS', 'state': 'West Bengal', 'consumerType': 'Domestic', 'payType': 'Postpaid'}\n",
      "{'groupName': 'Durgapur Steel TPS', 'state': 'West Bengal', 'consumerType': 'Domestic', 'payType': 'Postpaid'}\n",
      "{'groupName': 'Durgapur Steel TPS', 'state': 'West Bengal', 'consumerType': 'Domestic', 'payType': 'Postpaid'}\n",
      "{'groupName': 'Durgapur Steel TPS', 'state': 'West Bengal', 'consumerType': 'Domestic', 'payType': 'Postpaid'}\n",
      "{'groupName': 'Durgapur Steel TPS', 'state': 'West Bengal', 'consumerType': 'Domestic', 'payType': 'Postpaid'}\n",
      "{'groupName': 'Durgapur Steel TPS', 'state': 'West Bengal', 'consumerType': 'Domestic', 'payType': 'Postpaid'}\n",
      "{'groupName': 'Durgapur Steel TPS', 'state': 'West Bengal', 'consumerType': 'Domestic', 'payType': 'Postpaid'}\n",
      "{'groupName': 'Panchet', 'state': 'Jharkhand', 'consumerType': 'Domestic', 'payType': 'Postpaid'}\n",
      "{'groupName': 'Panchet', 'state': 'Jharkhand', 'consumerType': 'Domestic', 'payType': 'Postpaid'}\n"
     ]
    }
   ],
   "source": [
    "for item in data_dictionary[:10]:\n",
    "    print(item[\"groupName\"])"
   ]
  },
  {
   "cell_type": "code",
   "execution_count": 421,
   "id": "dcc0ebfb",
   "metadata": {},
   "outputs": [],
   "source": [
    "for item in data_dictionary:\n",
    "    group_dict = item[\"groupName\"]\n",
    "\n",
    "    item.update({\n",
    "        \"group\": group_dict.get(\"groupName\"),\n",
    "        \"state\": group_dict.get(\"state\"),\n",
    "        \"consumerType\": group_dict.get(\"consumerType\"),\n",
    "        \"payType\": group_dict.get(\"payType\")\n",
    "    })\n",
    "\n",
    "    item.pop(\"groupName\", None)\n"
   ]
  },
  {
   "cell_type": "code",
   "execution_count": 428,
   "id": "69b75caf",
   "metadata": {},
   "outputs": [],
   "source": [
    "dev_with_data = set()\n",
    "data_avail = []\n",
    "for item in data_dictionary:\n",
    "    dev_with_data.add(item[\"deviceId\"])\n",
    "for item in devices_v2:\n",
    "    isDataAvail = item[\"deviceId\"] in dev_with_data\n",
    "    group_dict = item[\"group\"]\n",
    "    data_avail.append({\n",
    "        \"deviceId\": item[\"deviceId\"],\n",
    "        \"groupName\": group_dict.get(\"groupName\"),\n",
    "        \"state\": group_dict.get(\"state\"),\n",
    "        \"consumerType\": group_dict.get(\"consumerType\"),\n",
    "        \"payType\": group_dict.get(\"payType\"),\n",
    "        \"dataAvailable\": isDataAvail\n",
    "    })"
   ]
  },
  {
   "cell_type": "code",
   "execution_count": null,
   "id": "c0db353d",
   "metadata": {},
   "outputs": [
    {
     "name": "stdout",
     "output_type": "stream",
     "text": [
      "{'deviceId': 'ISKIE077058', 'groupName': 'Panchet', 'state': 'Jharkhand', 'consumerType': 'Commercial', 'payType': 'Prepaid', 'dataAvailable': False}\n",
      "{'deviceId': 'ISKIE070642', 'groupName': 'Durgapur Steel TPS', 'state': 'West Bengal', 'consumerType': 'Domestic', 'payType': 'Postpaid', 'dataAvailable': True}\n",
      "{'deviceId': 'ISKIE070641', 'groupName': 'Durgapur Steel TPS', 'state': 'West Bengal', 'consumerType': 'Domestic', 'payType': 'Postpaid', 'dataAvailable': True}\n",
      "{'deviceId': 'ISKIE077056', 'groupName': 'Panchet', 'state': 'Jharkhand', 'consumerType': 'Domestic', 'payType': 'Postpaid', 'dataAvailable': True}\n",
      "{'deviceId': 'ISKIE070696', 'groupName': 'Panchet', 'state': 'Jharkhand', 'consumerType': 'Domestic', 'payType': 'Prepaid', 'dataAvailable': False}\n",
      "{'deviceId': 'ISKIE070702', 'groupName': 'Panchet', 'state': 'Jharkhand', 'consumerType': 'Domestic', 'payType': 'Unknown', 'dataAvailable': False}\n",
      "{'deviceId': 'ISKIE070683', 'groupName': 'Panchet', 'state': 'Jharkhand', 'consumerType': 'Domestic', 'payType': 'Prepaid', 'dataAvailable': False}\n",
      "{'deviceId': 'ISKIE070701', 'groupName': 'Panchet', 'state': 'Jharkhand', 'consumerType': 'Domestic', 'payType': 'Prepaid', 'dataAvailable': True}\n",
      "{'deviceId': 'ISKIE070764', 'groupName': 'Panchet', 'state': 'Jharkhand', 'consumerType': 'Domestic', 'payType': 'Unknown', 'dataAvailable': True}\n",
      "{'deviceId': 'ISKIE070772', 'groupName': 'Panchet', 'state': 'Jharkhand', 'consumerType': 'Domestic', 'payType': 'Prepaid', 'dataAvailable': True}\n"
     ]
    }
   ],
   "source": []
  }
 ],
 "metadata": {
  "kernelspec": {
   "display_name": "Python 3 (ipykernel)",
   "language": "python",
   "name": "python3"
  },
  "language_info": {
   "codemirror_mode": {
    "name": "ipython",
    "version": 3
   },
   "file_extension": ".py",
   "mimetype": "text/x-python",
   "name": "python",
   "nbconvert_exporter": "python",
   "pygments_lexer": "ipython3",
   "version": "3.9.21"
  }
 },
 "nbformat": 4,
 "nbformat_minor": 5
}
