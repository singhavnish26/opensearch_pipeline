{
 "cells": [
  {
   "cell_type": "code",
   "execution_count": 152,
   "id": "7ac5e315",
   "metadata": {},
   "outputs": [],
   "source": [
    "import time\n",
    "import json\n",
    "import urllib3\n",
    "import requests\n",
    "from datetime import datetime, timezone, timedelta, date\n",
    "from opensearchpy import OpenSearch\n",
    "from opensearch_helper import OSWriter  \n",
    "import calendar\n",
    "import logging\n",
    "from collections import defaultdict"
   ]
  },
  {
   "cell_type": "code",
   "execution_count": 153,
   "id": "ec505487",
   "metadata": {},
   "outputs": [],
   "source": [
    "year = datetime.utcnow().year\n",
    "fromTime = f\"{year}-03-31T18:29:00Z\"\n",
    "toTime = (datetime.utcnow() - timedelta(days=1)).strftime(\"%Y-%m-%dT18:31:00Z\")\n",
    "profile = \"1-0:99.2.0*255\"  # daily_profile\n",
    "ALLOWED_REGS = {\"1-0:1.8.0*255\", \"1-0:9.8.0*255\"}  # kwh_register, kvah_register"
   ]
  },
  {
   "cell_type": "code",
   "execution_count": 154,
   "id": "9c256406",
   "metadata": {},
   "outputs": [
    {
     "name": "stdout",
     "output_type": "stream",
     "text": [
      "Total devices fetched: %d 11247\n",
      "Total installed devices: %d 10573\n"
     ]
    }
   ],
   "source": [
    "def get_devices():\n",
    "    notOver = True\n",
    "    while notOver:\n",
    "        try:\n",
    "            r = requests.get(url1, verify=False, auth=(muser, msecret))\n",
    "            r.raise_for_status()\n",
    "            notOver = False\n",
    "        except requests.exceptions.HTTPError as errh:\n",
    "            continue\n",
    "        except requests.exceptions.ConnectionError as errc:\n",
    "            continue\n",
    "        except requests.exceptions.Timeout as errt:\n",
    "            continue\n",
    "        except requests.exceptions.RequestException as err:\n",
    "            continue\n",
    "    devList = json.loads(r.content.decode('utf-8'))\n",
    "    return devList\n",
    "\n",
    "deviceMasterList = get_devices()\n",
    "print(f\"Total devices fetched: %d\", len(deviceMasterList))\n",
    "\n",
    "devicesFiltered = []\n",
    "for item in deviceMasterList:\n",
    "    if item.get(\"inventoryState\") == \"installed\":\n",
    "        groupName = \" \".join(\n",
    "            w for w in item.get(\"groupName\", \"\").split()\n",
    "            if w.lower() not in {\"prepaid\", \"postpaid\"}\n",
    "        )\n",
    "        devicesFiltered.append({\"deviceId\": item['id'], \"groupName\": groupName})\n",
    "print(f\"Total installed devices: %d\", len(devicesFiltered))"
   ]
  },
  {
   "cell_type": "code",
   "execution_count": null,
   "id": "194139a7",
   "metadata": {},
   "outputs": [],
   "source": [
    "#daily_profile: 1-0:99.2.0*255\n",
    "#kwh_register:1-0:1.8.0*255\n",
    "#kvah_register:1-0:9.8.0*255"
   ]
  },
  {
   "cell_type": "code",
   "execution_count": 156,
   "id": "3123e7ba",
   "metadata": {},
   "outputs": [],
   "source": [
    "def get_daily_profile(fromTime, toTime, profile):\n",
    "    batchSize = 2000\n",
    "    count = 1\n",
    "    postData = []\n",
    "    batchDeviceList = []\n",
    "    batchGroupList = []\n",
    "    deviceList = []\n",
    "    groupList = []\n",
    "    for item in devicesFiltered:\n",
    "        deviceList.append(item['deviceId'])\n",
    "        groupList.append(item[\"groupName\"])\n",
    "    # Accumulator for all returned rows across batches\n",
    "    data_dictionary = []\n",
    "\n",
    "    # url2 already set above\n",
    "    for idx, deviceId in enumerate(deviceList):\n",
    "        postData.append({\"device\": deviceId, \"profile\": profile, \"from\": fromTime, \"to\": toTime})\n",
    " #       print(postData)\n",
    "#        break\n",
    "        batchDeviceList.append(deviceId)\n",
    "        batchGroupList.append(groupList[idx])\n",
    "\n",
    "        if (len(postData) == batchSize) or (count == len(devicesFiltered)):\n",
    "            notOver = True\n",
    "            while notOver:\n",
    "                try:\n",
    "                    r = requests.post(url2, json=postData, verify=False, auth=(muser, msecret))\n",
    "                    r.raise_for_status()\n",
    "                    notOver = False\n",
    "                except requests.exceptions.HTTPError as errh:\n",
    "                    print(\"HTTP Error: %s\", errh)\n",
    "                    continue\n",
    "                except requests.exceptions.ConnectionError as errc:\n",
    "                    print(\"Connection Error: %s\", errc)\n",
    "                    continue\n",
    "                except requests.exceptions.Timeout as errt:\n",
    "                    print(\"Timeout Error: %s\", errt)\n",
    "                    continue\n",
    "                except requests.exceptions.RequestException as err:\n",
    "                    print(\"Other Error: %s\", err)\n",
    "                    continue\n",
    "\n",
    "            returnJSON = json.loads(r.content.decode('utf-8'))\n",
    "\n",
    "            # Map returned entries back to the batch device/group lists by position\n",
    "            j = 0\n",
    "            for entry in returnJSON:\n",
    "                if entry.get(\"success\"):\n",
    "                    valueList = entry.get(\"value\", [])\n",
    "                    for value in valueList:\n",
    "                        for registerValue in value.get(\"meteredValues\", []):\n",
    "                            reg_id = registerValue.get(\"registerId\")\n",
    "                            if not reg_id or reg_id not in ALLOWED_REGS:\n",
    "                                continue\n",
    "                            data_dictionary.append({\n",
    "                                \"deviceId\": batchDeviceList[j],\n",
    "                                \"groupName\": batchGroupList[j],\n",
    "                                \"registerId\": registerValue.get(\"registerId\"),  # <-- fixed name\n",
    "                                \"unit\": registerValue.get(\"unit\"),\n",
    "                                \"value\": registerValue.get(\"value\"),\n",
    "                                \"measuredAt\": registerValue.get(\"measuredAt\")\n",
    "                            })\n",
    "                j += 1\n",
    "\n",
    "            # Reset for next batch\n",
    "            postData = []\n",
    "            batchDeviceList = []\n",
    "            batchGroupList = []\n",
    "            print(\"Completed batch %d\", count)\n",
    "\n",
    "        count += 1\n",
    "    return data_dictionary\n"
   ]
  },
  {
   "cell_type": "code",
   "execution_count": 157,
   "id": "c157c319",
   "metadata": {},
   "outputs": [
    {
     "name": "stdout",
     "output_type": "stream",
     "text": [
      "Completed batch %d 2000\n",
      "Completed batch %d 4000\n",
      "Completed batch %d 6000\n",
      "Completed batch %d 8000\n",
      "Completed batch %d 10000\n",
      "Completed batch %d 10573\n"
     ]
    }
   ],
   "source": [
    "dp_data=get_daily_profile(fromTime,toTime,profile)"
   ]
  },
  {
   "cell_type": "code",
   "execution_count": 123,
   "id": "5e3a3ade",
   "metadata": {},
   "outputs": [
    {
     "name": "stdout",
     "output_type": "stream",
     "text": [
      "1389299 1389299\n",
      "[{'deviceId': 'ISKIE070642', 'groupName': 'Durgapur Steel TPS Domestic', 'registerId': '1-0:9.8.0*255', 'unit': 'kVAh', 'value': 101.163, 'measuredAt': '2025-03-31T18:30:00Z'}]\n"
     ]
    }
   ],
   "source": [
    "dp_data_kwh = []\n",
    "dp_data_kvah = []\n",
    "for item in dp_data:\n",
    "    if item['registerId'] == \"1-0:1.8.0*255\":\n",
    "        dp_data_kwh.append(item)\n",
    "    elif item['registerId'] == \"1-0:9.8.0*255\":\n",
    "        dp_data_kvah.append(item)\n",
    "print(len(dp_data_kwh), len(dp_data_kvah))\n",
    "print(dp_data_kvah[:1])"
   ]
  },
  {
   "cell_type": "code",
   "execution_count": 158,
   "id": "3a703813",
   "metadata": {},
   "outputs": [
    {
     "name": "stdout",
     "output_type": "stream",
     "text": [
      "1398076 1398076\n",
      "[{'deviceId': 'ISKIE070642', 'groupName': 'Durgapur Steel TPS Domestic', 'registerId': '1-0:9.8.0*255', 'unit': 'kVAh', 'value': 101.163, 'measuredAt': '2025-03-31T18:30:00Z'}]\n"
     ]
    }
   ],
   "source": [
    "# Step 1: Split dp_data into kWh and kVAh\n",
    "dp_data_kwh = [d for d in dp_data if d['registerId'] == \"1-0:1.8.0*255\"]\n",
    "dp_data_kvah = [d for d in dp_data if d['registerId'] == \"1-0:9.8.0*255\"]\n",
    "\n",
    "print(len(dp_data_kwh), len(dp_data_kvah))\n",
    "print(dp_data_kvah[:1])\n",
    "\n"
   ]
  },
  {
   "cell_type": "code",
   "execution_count": 160,
   "id": "09428331",
   "metadata": {},
   "outputs": [],
   "source": [
    "def get_consumption_per_device(devices, data):\n",
    "    grouped = defaultdict(list)\n",
    "    for entry in data:\n",
    "        grouped[entry['deviceId']].append(entry)\n",
    "\n",
    "    result = []\n",
    "    now = datetime.utcnow().strftime(\"%Y-%m-%dT%H:%M:%SZ\")\n",
    "\n",
    "    for dev in devices:\n",
    "        dev_id = dev['deviceId']\n",
    "        if dev_id in grouped:\n",
    "            entries = grouped[dev_id]\n",
    "            first, last = entries[0], entries[-1]\n",
    "            diff = last['value'] - first['value']\n",
    "\n",
    "            result.append({\n",
    "                \"deviceId\": dev_id,\n",
    "                \"groupName\": dev[\"groupName\"],\n",
    "                \"registerId\": first[\"registerId\"],\n",
    "                \"unit\": first[\"unit\"],\n",
    "                \"value\": diff,\n",
    "                \"measuredAt\": now\n",
    "            })\n",
    "    return result\n",
    "\n",
    "\n",
    "# Step 3: Apply helper for both register types\n",
    "result_kwh = get_consumption_per_device(devicesFiltered, dp_data_kwh)\n",
    "result_kvah = get_consumption_per_device(devicesFiltered, dp_data_kvah)"
   ]
  },
  {
   "cell_type": "code",
   "execution_count": 167,
   "id": "2e3e4a3e",
   "metadata": {},
   "outputs": [
    {
     "name": "stdout",
     "output_type": "stream",
     "text": [
      "{'deviceId': 'EHLTNP36007', 'groupName': 'ROOT', 'registerId': '1-0:1.8.0*255', 'unit': 'kWh', 'value': 5499.788005000002, 'measuredAt': '2025-09-15T05:20:11Z'}\n",
      "{'deviceId': 'EHLTNP36007', 'groupName': 'ROOT', 'registerId': '1-0:9.8.0*255', 'unit': 'kVAh', 'value': 6770.486539999998, 'measuredAt': '2025-09-15T05:20:12Z'}\n",
      "{'deviceId': 'ISKER00001', 'groupName': 'Mejia TPS Domestic', 'registerId': '1-0:1.8.0*255', 'unit': 'kWh', 'value': 596.2199999999999, 'measuredAt': '2025-09-15T05:20:11Z'}\n",
      "{'deviceId': 'ISKER00001', 'groupName': 'Mejia TPS Domestic', 'registerId': '1-0:9.8.0*255', 'unit': 'kVAh', 'value': 638.7699999999999, 'measuredAt': '2025-09-15T05:20:12Z'}\n",
      "{'deviceId': 'ISKER00002', 'groupName': 'Mejia TPS Domestic', 'registerId': '1-0:1.8.0*255', 'unit': 'kWh', 'value': 1013.901, 'measuredAt': '2025-09-15T05:20:11Z'}\n"
     ]
    }
   ],
   "source": [
    "merged_result = result_kwh + result_kvah\n",
    "merged_result.sort(key=lambda x: (x['deviceId'], x['registerId']))\n",
    "for item in merged_result[:5]:\n",
    "    print(item)"
   ]
  },
  {
   "cell_type": "code",
   "execution_count": null,
   "id": "83237ab4",
   "metadata": {},
   "outputs": [],
   "source": [
    "for item in "
   ]
  }
 ],
 "metadata": {
  "kernelspec": {
   "display_name": "Python 3 (ipykernel)",
   "language": "python",
   "name": "python3"
  },
  "language_info": {
   "codemirror_mode": {
    "name": "ipython",
    "version": 3
   },
   "file_extension": ".py",
   "mimetype": "text/x-python",
   "name": "python",
   "nbconvert_exporter": "python",
   "pygments_lexer": "ipython3",
   "version": "3.9.21"
  }
 },
 "nbformat": 4,
 "nbformat_minor": 5
}
