{
 "cells": [
  {
   "cell_type": "code",
   "execution_count": 16,
   "id": "21069b0b-106f-4624-a8a5-c11ce37b00ee",
   "metadata": {},
   "outputs": [
    {
     "name": "stdout",
     "output_type": "stream",
     "text": [
      "***** Where do you want to get data from HES or MDM *****\n"
     ]
    },
    {
     "name": "stdin",
     "output_type": "stream",
     "text": [
      "Enter the data source (HES or MDM):  MDM\n"
     ]
    },
    {
     "name": "stdout",
     "output_type": "stream",
     "text": [
      "Would you like to export data for all devices in MDM or only for devices listed in the CSV file?\n",
      "Press 1 to export data for all devices in MDM.\n",
      "Press 2 to export data for devices from the CSV file MDM.\n"
     ]
    },
    {
     "name": "stdin",
     "output_type": "stream",
     "text": [
      "Input 1 or 2 and press Enter:  1\n",
      "Enter the profile you want to extract data for (Billing or Daily):  Billing\n",
      "Enter the month (e.g., January) or press Enter to use the current month:  July\n",
      "Enter the year (e.g., 2024) or press Enter to use the current year:  \n"
     ]
    },
    {
     "name": "stdout",
     "output_type": "stream",
     "text": [
      "Data Will Be Extracted For Following: \n",
      "======================================\n",
      "Data Source   : MDM\n",
      "Profile       : Billing Profile\n",
      "Profile Value : 1-0:98.1.0*255\n",
      "Start Time    : 2024-07-31T18:29:00Z\n",
      "End Time      : 2024-07-31T18:31:00Z\n",
      "Devices      : All Devices in MDM\n"
     ]
    }
   ],
   "source": [
    "import datetime\n",
    "from datetime import datetime, timedelta\n",
    "import calendar\n",
    "import requests\n",
    "import json\n",
    "import urllib3\n",
    "import configparser\n",
    "import csv\n",
    "config = configparser.ConfigParser()\n",
    "config.read('credentials.ini')\n",
    "urllib3.disable_warnings(urllib3.exceptions.InsecureRequestWarning)\n",
    "\n",
    "MDM_add = config['API']['MDM_add']\n",
    "MDM_user = config['API']['MDM_username']\n",
    "MDM_password = config['API']['MDM_password']\n",
    "HES_add = config['API']['HES_add']\n",
    "HES_user = config['API']['HES_username']\n",
    "HES_password = config['API']['HES_password']\n",
    "\n",
    "print(\"***** Where do you want to get data from HES or MDM *****\")\n",
    "while True:\n",
    "    data_source = input(\"Enter the data source (HES or MDM): \").strip()\n",
    "\n",
    "    if data_source == \"HES\":\n",
    "        add = HES_add\n",
    "        user = HES_user\n",
    "        password = HES_password\n",
    "        break\n",
    "    elif data_source == \"MDM\":\n",
    "        add = MDM_add\n",
    "        user = MDM_user\n",
    "        password = MDM_password\n",
    "        break\n",
    "    else:\n",
    "        print(\"Invalid choice. Please enter either 'HES' or 'MDM'.\")\n",
    "        \n",
    "\n",
    "\n",
    "print(f\"Would you like to export data for all devices in {data_source} or only for devices listed in the CSV file?\")\n",
    "while True:\n",
    "    print(f\"Press 1 to export data for all devices in {data_source}.\")\n",
    "    print(f\"Press 2 to export data for devices from the CSV file {data_source}.\")\n",
    "    dev_type = input(\"Input 1 or 2 and press Enter: \")\n",
    "    if dev_type == '1':\n",
    "        break\n",
    "    elif dev_type == '2':\n",
    "        dev_file_path = input(\"Enter the file name like 'device_list.csv': \")\n",
    "        break\n",
    "    else:\n",
    "        print(\"Invalid choice. Please enter either '1' or '2'.\")\n",
    "\n",
    "\n",
    "def csv_to_device(filepath):\n",
    "    dev_list = []\n",
    "    try:\n",
    "        with open(filepath, mode='r', encoding='utf-8-sig') as file:\n",
    "            csv_reader = csv.DictReader(file)\n",
    "            for row in csv_reader:\n",
    "                if row:\n",
    "                    dev_list.append(list(row.values())[0])\n",
    "    except FileNotFoundError:\n",
    "        print(f\"Error: The file '{filepath}' was not found.\")\n",
    "    except IOError:\n",
    "        print(f\"Error: An I/O error occurred while reading the file '{filepath}'.\")\n",
    "    except Exception as e:\n",
    "        print(f\"An unexpected error occurred: {e}\")\n",
    "    return dev_list\n",
    "\n",
    "\n",
    "def billing_time_data(month: str = None, year: int = None, start_hour: int = 18, start_minute: int = 29):\n",
    "    # Use current year and month if not provided\n",
    "    now = datetime.now()\n",
    "    if year is None:\n",
    "        year = now.year\n",
    "    if month is None:\n",
    "        month = now.strftime('%B')\n",
    "    \n",
    "    month = month.capitalize()\n",
    "    cur_start_date = datetime(year, list(calendar.month_name).index(month), \n",
    "                              calendar.monthrange(year, list(calendar.month_name).index(month))[1],\n",
    "                              start_hour, start_minute)\n",
    "    start_time_cur = cur_start_date.strftime(\"%Y-%m-%dT%H:%M:%SZ\")\n",
    "    end_time_cur = (cur_start_date + timedelta(minutes=2)).strftime(\"%Y-%m-%dT%H:%M:%SZ\")        \n",
    "    return start_time_cur, end_time_cur\n",
    "\n",
    "\n",
    "def daily_time_data(day: int = None, month: str = None, year: int = None, start_hour: int = 18, start_minute: int = 29):\n",
    "    now = datetime.now()    \n",
    "    if year is None:\n",
    "        year = now.year\n",
    "    if month is None:\n",
    "        month = now.strftime('%B')\n",
    "    month = month.capitalize()    \n",
    "    if day is None:\n",
    "        day = now.day\n",
    "        month = now.strftime('%B')\n",
    "        year = now.year\n",
    "    else:\n",
    "        date_obj = datetime(year, list(calendar.month_name).index(month), day) - timedelta(days=1)\n",
    "        year, month, day = date_obj.year, date_obj.strftime('%B'), date_obj.day\n",
    "    cur_start_date = datetime(year, list(calendar.month_name).index(month), day, start_hour, start_minute)\n",
    "    start_time_cur = cur_start_date.strftime(\"%Y-%m-%dT%H:%M:%SZ\")\n",
    "    end_time_cur = (cur_start_date + timedelta(minutes=2)).strftime(\"%Y-%m-%dT%H:%M:%SZ\")\n",
    "\n",
    "    return start_time_cur, end_time_cur\n",
    "\n",
    "\n",
    "#Take user input for profile, year, month, date depending on the type of profile users wants to extract data for\n",
    "while True:\n",
    "    profile = input(\"Enter the profile you want to extract data for (Billing or Daily): \").strip().lower()\n",
    "    if profile == \"billing\":\n",
    "        prof = \"1-0:98.1.0*255\"\n",
    "        tprof = \"Billing Profile\"\n",
    "        while True:\n",
    "            try:\n",
    "                month_input = input(\"Enter the month (e.g., January) or press Enter to use the current month: \")\n",
    "                year_input = input(\"Enter the year (e.g., 2024) or press Enter to use the current year: \")\n",
    "                month = month_input if month_input else None\n",
    "                year = int(year_input) if year_input else None\n",
    "                start_time_cur, to_time_cur = billing_time_data(month, year)\n",
    "                break\n",
    "            except (ValueError, IndexError):\n",
    "                print(\"Invalid date. Please try again.\")\n",
    "        break\n",
    "    elif profile == \"daily\":\n",
    "        prof = \"1-0:99.2.0*255\"\n",
    "        tprof = \"Daily Profile\"\n",
    "        while True:\n",
    "            try:\n",
    "                year_input = input(\"Enter the year (e.g., 2024) or press Enter to use the current year: \")\n",
    "                month_input = input(\"Enter the month (e.g., January) or press Enter to use the current month: \")\n",
    "                day_input = input(\"Enter the day (e.g., 31) or press Enter to use today's date: \")\n",
    "                month = month_input if month_input else None\n",
    "                year = int(year_input) if year_input else None\n",
    "                day = int(day_input) if day_input else None\n",
    "                start_time_cur, to_time_cur = daily_time_data(day, month, year)\n",
    "                break\n",
    "            except (ValueError, IndexError):\n",
    "                print(\"Invalid Date. Please try again\")\n",
    "        break\n",
    "            \n",
    "    else:\n",
    "        print(\"Invalid choice. Please enter either 'billing' or 'daily'.\")\n",
    "        \n",
    "end_date_part = start_time_cur.split(\"T\")[0]\n",
    "\n",
    "print(\"Data Will Be Extracted For Following: \")\n",
    "print(\"======================================\")\n",
    "print(f\"Data Source   : {data_source}\")\n",
    "print(f\"Profile       : {tprof}\")\n",
    "print(f\"Profile Value : {prof}\")\n",
    "print(f\"Start Time    : {start_time_cur}\")\n",
    "print(f\"End Time      : {to_time_cur}\")\n",
    "if dev_type == '1':\n",
    "    print(f\"Devices      : All Devices in {data_source}\")\n",
    "else:\n",
    "    print(f\"Devices      : All Devices in the {dev_file_path} file\")\n"
   ]
  },
  {
   "cell_type": "code",
   "execution_count": 17,
   "id": "7ba5b9c6-0f1c-4743-a480-8fafd9e3f988",
   "metadata": {},
   "outputs": [],
   "source": [
    "def get_devices(add, user, password):\n",
    "    url= f\"{add}/api/1/devices/\"\n",
    "    try:\n",
    "        r = requests.get(url, auth=(MDM_user, MDM_password), verify=False)\n",
    "        r.raise_for_status()\n",
    "    except requests.exceptions.RequestException as e:\n",
    "        print(f\"Request Error: {e}\")\n",
    "        return []\n",
    "    \n",
    "    device = r.json()\n",
    "    \n",
    "    del_key = ['communicationId', 'typeId', 'typeName', 'templateId', 'templateName', 'managementState', 'description', 'manufacturer', 'model', 'parentId', 'location', 'storeData', 'groupId']\n",
    "    for item in device:\n",
    "        for k in del_key:\n",
    "            item.pop(k, None)\n",
    "    return device"
   ]
  },
  {
   "cell_type": "code",
   "execution_count": 18,
   "id": "37ac88c2-1a30-4759-b49c-527662f16730",
   "metadata": {},
   "outputs": [],
   "source": [
    "dev_list=get_devices(MDM_add, MDM_user, MDM_password)"
   ]
  },
  {
   "cell_type": "code",
   "execution_count": 20,
   "id": "d3857963-a4ea-4db6-9291-ad0e7a6b662d",
   "metadata": {},
   "outputs": [
    {
     "name": "stdout",
     "output_type": "stream",
     "text": [
      "{'id': 'ISKIE077058', 'inventoryState': 'installed', 'lastConnection': 1729567860, 'groupName': 'Panchet Commercial'}\n"
     ]
    }
   ],
   "source": [
    "print(dev_list[0])"
   ]
  },
  {
   "cell_type": "code",
   "execution_count": 21,
   "id": "96280fac-e284-4565-80e2-50a1ee4a0e16",
   "metadata": {},
   "outputs": [],
   "source": [
    "schema = [\n",
    "    {\"device\": devices.get('id'), \"profile\": prof, \"from\": start_time_cur, \"to\": to_time_cur}\n",
    "    for devices in dev_list\n",
    "]\n",
    "def split_schema(biglist, shard_size):\n",
    "    # Using list comprehension to create sublists of the given size\n",
    "    return [biglist[i:i + shard_size] for i in range(0, len(biglist), shard_size)]\n",
    "sp_schema = split_schema(schema, 3000)"
   ]
  },
  {
   "cell_type": "code",
   "execution_count": 22,
   "id": "9b68a539-d9bf-43b8-9960-e2507f2b6afd",
   "metadata": {},
   "outputs": [],
   "source": [
    "def get_billing_profile(add, username, password, schema):\n",
    "    m_values_kwh = []\n",
    "    m_values_kvah = []\n",
    "    request_url = f\"{add}/api/1/bulk/device-profiles/metered-data/get\"\n",
    "\n",
    "    try:\n",
    "        r = requests.post(request_url, auth=(username, password), verify=False, json=schema)\n",
    "        r.raise_for_status()  # Raise an error for bad status codes (4xx, 5xx)\n",
    "    except requests.exceptions.HTTPError as http_err:\n",
    "        print(f\"HTTP error occurred: {http_err}\")  # For HTTP errors\n",
    "    except requests.exceptions.ConnectionError as conn_err:\n",
    "        print(f\"Connection error occurred: {conn_err}\")  # For connection errors\n",
    "    except requests.exceptions.Timeout as timeout_err:\n",
    "        print(f\"Timeout error occurred: {timeout_err}\")  # For timeout errors\n",
    "    except requests.exceptions.RequestException as req_err:\n",
    "        print(f\"Request error occurred: {req_err}\")  # For all other request errors\n",
    "    else:\n",
    "        try:\n",
    "            val = r.json()  # Try to parse the response as JSON\n",
    "        except ValueError as json_err:\n",
    "            print(f\"JSON decoding error: {json_err}\")\n",
    "        else:\n",
    "            # Process the JSON data here\n",
    "            print(\"Request successful, and JSON parsed.\")\n",
    "            return val\n",
    "    "
   ]
  },
  {
   "cell_type": "code",
   "execution_count": 35,
   "id": "bc0d291f-1b7b-42b7-8de3-e3429d99725c",
   "metadata": {},
   "outputs": [],
   "source": [
    "def process_metered_values(json_data):\n",
    "    m_values_kwh = []\n",
    "    m_values_kvah = []\n",
    "    entries = json_data.get(\"value\", [])\n",
    "    if entries:\n",
    "        first_entry = entries[0]\n",
    "        capturedAt = first_entry.get(\"capturedAt\", \"\")\n",
    "        metered_values = first_entry.get(\"meteredValues\", [])\n",
    "        for item in metered_values:\n",
    "            if item[\"registerId\"] == \"1-0:1.8.0*255\":\n",
    "                if not item.get(\"measuredAt\"):\n",
    "                    item[\"measuredAt\"] = capturedAt\n",
    "                m_values_kwh.append(item)\n",
    "            \n",
    "            elif item[\"registerId\"] == \"1-0:9.8.0*255\":\n",
    "                if not item.get(\"measuredAt\"):\n",
    "                    item[\"measuredAt\"] = capturedAt\n",
    "                m_values_kvah.append(item)\n",
    "    \n",
    "    return m_values_kwh, m_values_kvah\n"
   ]
  },
  {
   "cell_type": "code",
   "execution_count": 58,
   "id": "91ee5149-0914-47bb-9b2d-368ab831b0ce",
   "metadata": {},
   "outputs": [
    {
     "name": "stdout",
     "output_type": "stream",
     "text": [
      "Request successful, and JSON parsed.\n"
     ]
    }
   ],
   "source": [
    "val = get_billing_profile(MDM_add, MDM_user, MDM_password, sp_schema[0])"
   ]
  },
  {
   "cell_type": "code",
   "execution_count": 61,
   "id": "9a13897e-ff55-4af4-a11c-38055b61f96f",
   "metadata": {},
   "outputs": [
    {
     "name": "stderr",
     "output_type": "stream",
     "text": [
      "IOPub data rate exceeded.\n",
      "The Jupyter server will temporarily stop sending output\n",
      "to the client in order to avoid crashing it.\n",
      "To change this limit, set the config variable\n",
      "`--ServerApp.iopub_data_rate_limit`.\n",
      "\n",
      "Current values:\n",
      "ServerApp.iopub_data_rate_limit=1000000.0 (bytes/sec)\n",
      "ServerApp.rate_limit_window=3.0 (secs)\n",
      "\n"
     ]
    }
   ],
   "source": []
  },
  {
   "cell_type": "code",
   "execution_count": 47,
   "id": "cb146e35-4a1a-4ad8-8824-862a115731ba",
   "metadata": {},
   "outputs": [],
   "source": [
    "def process_metered_values(json_data):\n",
    "    m_values_kwh = []\n",
    "    m_values_kvah = []\n",
    "\n",
    "    for record in json_data: \n",
    "        if record.get(\"success\"):\n",
    "            entries = record.get(\"value\", [])\n",
    "\n",
    "            if entries:\n",
    "                first_entry = entries[0]\n",
    "                capturedAt = first_entry.get(\"capturedAt\", \"\")\n",
    "                metered_values = first_entry.get(\"meteredValues\", [])\n",
    "\n",
    "                for item in metered_values:\n",
    "                    if item[\"registerId\"] == \"1-0:1.8.0*255\":\n",
    "                        if not item.get(\"measuredAt\"):\n",
    "                            item[\"measuredAt\"] = capturedAt\n",
    "                        m_values_kwh.append(item)\n",
    "                    elif item[\"registerId\"] == \"1-0:9.8.0*255\":\n",
    "                        if not item.get(\"measuredAt\"):\n",
    "                            item[\"measuredAt\"] = capturedAt\n",
    "                        m_values_kvah.append(item)\n",
    "\n",
    "    return m_values_kwh, m_values_kvah\n"
   ]
  },
  {
   "cell_type": "code",
   "execution_count": 91,
   "id": "cff50249-6452-422b-b1b6-a901ad94685e",
   "metadata": {},
   "outputs": [],
   "source": [
    "def flatten_dicts(nested_list):\n",
    "    flat_list = []\n",
    "    \n",
    "    for item in nested_list:\n",
    "        if 'value' in item:\n",
    "            for value in item['value']:\n",
    "                # Prepare a flat dictionary starting with the current item\n",
    "                flat_item = {\n",
    "                    'success': item.get('success'),\n",
    "                    'capturedAt': value.get('capturedAt'),\n",
    "                    'readingReason': value.get('readingReason'),\n",
    "                    'statusWord': value.get('statusWord'),\n",
    "                    'dataSource': value.get('dataSource'),\n",
    "                }\n",
    "                \n",
    "                # Flatten meteredValues if present\n",
    "                if 'meteredValues' in value:\n",
    "                    for meter in value['meteredValues']:\n",
    "                        flat_meter = flat_item.copy()  # Copy base flat_item\n",
    "                        flat_meter.update({\n",
    "                            'registerId': meter.get('registerId'),\n",
    "                            'value': meter.get('value'),\n",
    "                            'unit': meter.get('unit'),\n",
    "                            'measuredAt': meter.get('measuredAt'),\n",
    "                        })\n",
    "                        flat_list.append(flat_meter)\n",
    "                else:\n",
    "                    flat_list.append(flat_item)\n",
    "    \n",
    "    return flat_list\n",
    "\n",
    "# Example usage\n",
    "flattened_list = flatten_dicts(val)\n"
   ]
  },
  {
   "cell_type": "code",
   "execution_count": 94,
   "id": "d3ebee55-4e56-4c8d-bf20-8f2d5aa96c6a",
   "metadata": {},
   "outputs": [
    {
     "name": "stdout",
     "output_type": "stream",
     "text": [
      "{'success': True, 'capturedAt': '2024-07-31T18:30:00Z', 'readingReason': 1, 'statusWord': 0, 'dataSource': 64, 'registerId': '0-0:0.1.2*255', 'value': 1722450600, 'unit': 's', 'measuredAt': '2024-07-31T18:30:00Z'}\n"
     ]
    }
   ],
   "source": [
    "flat_list=flatten_dicts(val)\n",
    "print(flat_list[0])"
   ]
  },
  {
   "cell_type": "code",
   "execution_count": 50,
   "id": "d233ce2a-74b6-4f1d-8d88-74e349782c3c",
   "metadata": {},
   "outputs": [
    {
     "name": "stdout",
     "output_type": "stream",
     "text": [
      "{'registerId': '1-0:9.8.0*255', 'value': 615.22, 'unit': 'kVAh', 'measuredAt': '2024-07-31T18:30:00Z'}\n"
     ]
    }
   ],
   "source": [
    "def process_metered_values(json_data):\n",
    "    m_values_kwh = []\n",
    "    m_values_kvah = []\n",
    "\n",
    "    for record in json_data:  # Loop through each dictionary in the list\n",
    "        if record.get(\"success\"):\n",
    "            entries = record.get(\"value\", [])\n",
    "\n",
    "            if entries:\n",
    "                first_entry = entries[0]\n",
    "                capturedAt = first_entry.get(\"capturedAt\", \"\")\n",
    "                metered_values = first_entry.get(\"meteredValues\", [])\n",
    "\n",
    "                for item in metered_values:\n",
    "                    if item[\"registerId\"] == \"1-0:1.8.0*255\":\n",
    "                        if not item.get(\"measuredAt\"):\n",
    "                            item[\"measuredAt\"] = capturedAt\n",
    "                        m_values_kwh.append(item)\n",
    "                    elif item[\"registerId\"] == \"1-0:9.8.0*255\":\n",
    "                        if not item.get(\"measuredAt\"):\n",
    "                            item[\"measuredAt\"] = capturedAt\n",
    "                        m_values_kvah.append(item)\n",
    "        else:\n",
    "            print(f\"Error in record: {record.get('errorMessage', 'No error message provided')}\")\n",
    "            continue \n",
    "\n",
    "    return m_values_kwh, m_values_kvah\n"
   ]
  },
  {
   "cell_type": "code",
   "execution_count": null,
   "id": "6c1719f5-ce88-4d44-867a-9547831c4063",
   "metadata": {},
   "outputs": [],
   "source": []
  }
 ],
 "metadata": {
  "kernelspec": {
   "display_name": "Python 3 (ipykernel)",
   "language": "python",
   "name": "python3"
  },
  "language_info": {
   "codemirror_mode": {
    "name": "ipython",
    "version": 3
   },
   "file_extension": ".py",
   "mimetype": "text/x-python",
   "name": "python",
   "nbconvert_exporter": "python",
   "pygments_lexer": "ipython3",
   "version": "3.12.4"
  }
 },
 "nbformat": 4,
 "nbformat_minor": 5
}
