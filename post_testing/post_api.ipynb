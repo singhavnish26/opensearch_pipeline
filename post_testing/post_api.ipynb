{
 "cells": [
  {
   "cell_type": "code",
   "execution_count": 3,
   "id": "53873a6e-b1e0-4114-a818-d59dbe07c289",
   "metadata": {},
   "outputs": [],
   "source": [
    "import datetime\n",
    "from datetime import datetime, timedelta\n",
    "import calendar\n",
    "import requests\n",
    "import json\n",
    "import urllib3\n",
    "import configparser\n",
    "import csv\n",
    "config = configparser.ConfigParser()\n",
    "config.read('credentials.ini')\n",
    "urllib3.disable_warnings(urllib3.exceptions.InsecureRequestWarning)\n",
    "MDM_add = config['API']['MDM_add']\n",
    "MDM_user = config['API']['MDM_username']\n",
    "MDM_password = config['API']['MDM_password']"
   ]
  },
  {
   "cell_type": "code",
   "execution_count": 4,
   "id": "c8452d0e-8329-4a19-a7da-08a060aeec41",
   "metadata": {},
   "outputs": [],
   "source": [
    "def get_devices(add, user, password):\n",
    "    url= f\"{add}/api/1/devices/\"\n",
    "    try:\n",
    "        r = requests.get(url, auth=(MDM_user, MDM_password), verify=False)\n",
    "        r.raise_for_status()\n",
    "    except requests.exceptions.RequestException as e:\n",
    "        print(f\"Request Error: {e}\")\n",
    "        return []\n",
    "    \n",
    "    device = r.json()\n",
    "    \n",
    "    del_key = ['communicationId', 'typeId', 'typeName', 'templateId', 'templateName', 'managementState', 'description', 'manufacturer', 'model', 'parentId', 'location', 'storeData', 'groupId']\n",
    "    for item in device:\n",
    "        for k in del_key:\n",
    "            item.pop(k, None)\n",
    "    return device"
   ]
  },
  {
   "cell_type": "code",
   "execution_count": 1,
   "id": "af06fc78-00ca-4d46-a5cc-3d9f57349c58",
   "metadata": {},
   "outputs": [
    {
     "ename": "NameError",
     "evalue": "name 'get_devices' is not defined",
     "output_type": "error",
     "traceback": [
      "\u001b[1;31m---------------------------------------------------------------------------\u001b[0m",
      "\u001b[1;31mNameError\u001b[0m                                 Traceback (most recent call last)",
      "Cell \u001b[1;32mIn[1], line 1\u001b[0m\n\u001b[1;32m----> 1\u001b[0m dev_list\u001b[38;5;241m=\u001b[39mget_devices(MDM_add, MDM_user, MDM_password)\n",
      "\u001b[1;31mNameError\u001b[0m: name 'get_devices' is not defined"
     ]
    }
   ],
   "source": [
    "dev_list=get_devices(MDM_add, MDM_user, MDM_password)"
   ]
  },
  {
   "cell_type": "code",
   "execution_count": 10,
   "id": "5c430c9f-9537-44df-8321-91212dc4b0d1",
   "metadata": {},
   "outputs": [
    {
     "name": "stdout",
     "output_type": "stream",
     "text": [
      "ISKIE077058\n"
     ]
    }
   ],
   "source": [
    "print(dev_list[0].get('id'))"
   ]
  },
  {
   "cell_type": "code",
   "execution_count": 11,
   "id": "0d78ec35-da08-46d7-9c84-d6244ce29ad0",
   "metadata": {},
   "outputs": [
    {
     "name": "stdin",
     "output_type": "stream",
     "text": [
      "Enter the profile you want to extract data for (Billing or Daily):  Billing\n",
      "Enter the month (e.g., January) or press Enter to use the current month:  June\n",
      "Enter the year (e.g., 2024) or press Enter to use the current year:  \n"
     ]
    }
   ],
   "source": [
    "def billing_time_data(month: str = None, year: int = None, start_hour: int = 18, start_minute: int = 29):\n",
    "    # Use current year and month if not provided\n",
    "    now = datetime.now()\n",
    "    if year is None:\n",
    "        year = now.year\n",
    "    if month is None:\n",
    "        month = now.strftime('%B')\n",
    "    \n",
    "    month = month.capitalize()\n",
    "    cur_start_date = datetime(year, list(calendar.month_name).index(month), \n",
    "                              calendar.monthrange(year, list(calendar.month_name).index(month))[1],\n",
    "                              start_hour, start_minute)\n",
    "    start_time_cur = cur_start_date.strftime(\"%Y-%m-%dT%H:%M:%SZ\")\n",
    "    end_time_cur = (cur_start_date + timedelta(minutes=2)).strftime(\"%Y-%m-%dT%H:%M:%SZ\")        \n",
    "    return start_time_cur, end_time_cur\n",
    "\n",
    "\n",
    "def daily_time_data(day: int = None, month: str = None, year: int = None, start_hour: int = 18, start_minute: int = 29):\n",
    "    now = datetime.now()    \n",
    "    if year is None:\n",
    "        year = now.year\n",
    "    if month is None:\n",
    "        month = now.strftime('%B')\n",
    "    month = month.capitalize()    \n",
    "    if day is None:\n",
    "        day = now.day\n",
    "        month = now.strftime('%B')\n",
    "        year = now.year\n",
    "    else:\n",
    "        date_obj = datetime(year, list(calendar.month_name).index(month), day) - timedelta(days=1)\n",
    "        year, month, day = date_obj.year, date_obj.strftime('%B'), date_obj.day\n",
    "    cur_start_date = datetime(year, list(calendar.month_name).index(month), day, start_hour, start_minute)\n",
    "    start_time_cur = cur_start_date.strftime(\"%Y-%m-%dT%H:%M:%SZ\")\n",
    "    end_time_cur = (cur_start_date + timedelta(minutes=2)).strftime(\"%Y-%m-%dT%H:%M:%SZ\")\n",
    "\n",
    "    return start_time_cur, end_time_cur\n",
    "\n",
    "\n",
    "while True:\n",
    "    profile = input(\"Enter the profile you want to extract data for (Billing or Daily): \").strip().lower()\n",
    "    if profile == \"billing\":\n",
    "        prof = \"1-0:98.1.0*255\"\n",
    "        tprof = \"Billing Profile\"\n",
    "        while True:\n",
    "            try:\n",
    "                month_input = input(\"Enter the month (e.g., January) or press Enter to use the current month: \")\n",
    "                year_input = input(\"Enter the year (e.g., 2024) or press Enter to use the current year: \")\n",
    "                month = month_input if month_input else None\n",
    "                year = int(year_input) if year_input else None\n",
    "                start_time_cur, to_time_cur = billing_time_data(month, year)\n",
    "                break\n",
    "            except (ValueError, IndexError):\n",
    "                print(\"Invalid date. Please try again.\")\n",
    "        break\n",
    "    elif profile == \"daily\":\n",
    "        prof = \"1-0:99.2.0*255\"\n",
    "        tprof = \"Daily Profile\"\n",
    "        while True:\n",
    "            try:\n",
    "                year_input = input(\"Enter the year (e.g., 2024) or press Enter to use the current year: \")\n",
    "                month_input = input(\"Enter the month (e.g., January) or press Enter to use the current month: \")\n",
    "                day_input = input(\"Enter the day (e.g., 31) or press Enter to use today's date: \")\n",
    "                month = month_input if month_input else None\n",
    "                year = int(year_input) if year_input else None\n",
    "                day = int(day_input) if day_input else None\n",
    "                start_time_cur, to_time_cur = daily_time_data(day, month, year)\n",
    "                break\n",
    "            except (ValueError, IndexError):\n",
    "                print(\"Invalid Date. Please try again\")\n",
    "        break\n",
    "            \n",
    "    else:\n",
    "        print(\"Invalid choice. Please enter either 'billing' or 'daily'.\")\n",
    "        \n",
    "end_date_part = start_time_cur.split(\"T\")[0]\n"
   ]
  },
  {
   "cell_type": "code",
   "execution_count": 14,
   "id": "00f81884-608a-49dc-9b9a-2b4af0bf8bf2",
   "metadata": {},
   "outputs": [
    {
     "name": "stdout",
     "output_type": "stream",
     "text": [
      "Data Will Be Extracted For Following: \n",
      "======================================\n",
      "Profile       : Billing Profile\n",
      "Profile Value : 1-0:98.1.0*255\n",
      "Start Time    : 2024-06-30T18:29:00Z\n",
      "End Time      : 2024-06-30T18:31:00Z\n"
     ]
    }
   ],
   "source": [
    "end_date_part = start_time_cur.split(\"T\")[0]\n",
    "\n",
    "print(\"Data Will Be Extracted For Following: \")\n",
    "print(\"======================================\")\n",
    "#print(f\"Data Source   : {data_source}\")\n",
    "print(f\"Profile       : {tprof}\")\n",
    "print(f\"Profile Value : {prof}\")\n",
    "print(f\"Start Time    : {start_time_cur}\")\n",
    "print(f\"End Time      : {to_time_cur}\")"
   ]
  },
  {
   "cell_type": "code",
   "execution_count": 41,
   "id": "c52f3581-4292-403f-8769-00d2ed94ec0c",
   "metadata": {},
   "outputs": [
    {
     "name": "stdout",
     "output_type": "stream",
     "text": [
      "9995\n"
     ]
    }
   ],
   "source": [
    "schema=[]\n",
    "#print(dev_list[0])\n",
    "for devices in dev_list:\n",
    "    sch = {}\n",
    "    sch[\"device\"] = devices.get('id')\n",
    "    sch[\"profile\"] = prof\n",
    "    sch[\"from\"] = start_time_cur\n",
    "    sch[\"to\"] = to_time_cur\n",
    "    schema.append(sch)    \n",
    "print(len(schema))"
   ]
  },
  {
   "cell_type": "code",
   "execution_count": 43,
   "id": "6a8e4923-d0a5-4fbb-8d14-e9438199fc99",
   "metadata": {},
   "outputs": [],
   "source": [
    "def split_schema(biglist, shard_size):\n",
    "    # Using list comprehension to create sublists of the given size\n",
    "    return [biglist[i:i + shard_size] for i in range(0, len(biglist), shard_size)]\n"
   ]
  },
  {
   "cell_type": "code",
   "execution_count": 44,
   "id": "b6239f82-9b4f-41e0-9125-a423022c7358",
   "metadata": {},
   "outputs": [
    {
     "name": "stdout",
     "output_type": "stream",
     "text": [
      "Number of sublists created: 4\n",
      "Sizes of each sublist: [3000, 3000, 3000, 995]\n"
     ]
    }
   ],
   "source": [
    "# Split the schema into sublists\n",
    "sublists = split_schema(schema, 3000)\n",
    "#num_sublists = len(sublists)\n",
    "#sublist_sizes = [len(sublist) for sublist in sublists]\n",
    "\n",
    "#print(f\"Number of sublists created: {num_sublists}\")\n",
    "#print(f\"Sizes of each sublist: {sublist_sizes}\")\n"
   ]
  },
  {
   "cell_type": "code",
   "execution_count": 52,
   "id": "e5643434-ab7b-447a-a654-b5d3f04ddda1",
   "metadata": {},
   "outputs": [],
   "source": [
    "request_url = f\"{MDM_add}/api/1/bulk/device-profiles/metered-data/get\"\n",
    "try:\n",
    "    r = requests.post(url, auth=(MDM_user, MDM_password), verify=False, json=sublists[0])\n",
    "except requests.exceptions.RequestException as e:\n",
    "    print(f\"Request Error: {e}\")\n",
    "\n",
    "val = r.json()\n",
    "\n"
   ]
  },
  {
   "cell_type": "code",
   "execution_count": 58,
   "id": "66b77d9d-946c-489b-9d36-0371f07ab3ed",
   "metadata": {
    "scrolled": true
   },
   "outputs": [
    {
     "name": "stdout",
     "output_type": "stream",
     "text": [
      "3000\n",
      "{'success': True, 'value': [{'capturedAt': '2024-06-30T18:30:00Z', 'readingReason': 1, 'statusWord': 0, 'dataSource': 64, 'meteredValues': [{'registerId': '0-0:0.1.2*255', 'value': 1719772200, 'unit': 's', 'measuredAt': '2024-06-30T18:30:00Z'}, {'registerId': '1-0:13.0.0*255', 'value': 0.991, 'unit': '1', 'measuredAt': '2024-06-30T18:30:00Z'}, {'registerId': '1-0:1.8.0*255', 'value': 520.167, 'unit': 'kWh', 'measuredAt': '2024-06-30T18:30:00Z'}, {'registerId': '1-0:1.8.1*255', 'value': 75.047, 'unit': 'kWh', 'measuredAt': '2024-06-30T18:30:00Z'}, {'registerId': '1-0:1.8.2*255', 'value': 72.782, 'unit': 'kWh', 'measuredAt': '2024-06-30T18:30:00Z'}, {'registerId': '1-0:1.8.3*255', 'value': 60.654, 'unit': 'kWh', 'measuredAt': '2024-06-30T18:30:00Z'}, {'registerId': '1-0:1.8.4*255', 'value': 106.47, 'unit': 'kWh', 'measuredAt': '2024-06-30T18:30:00Z'}, {'registerId': '1-0:1.8.5*255', 'value': 205.214, 'unit': 'kWh', 'measuredAt': '2024-06-30T18:30:00Z'}, {'registerId': '1-0:9.8.0*255', 'value': 607.679, 'unit': 'kVAh', 'measuredAt': '2024-06-30T18:30:00Z'}, {'registerId': '1-0:9.8.1*255', 'value': 99.883, 'unit': 'kVAh', 'measuredAt': '2024-06-30T18:30:00Z'}, {'registerId': '1-0:9.8.2*255', 'value': 97.992, 'unit': 'kVAh', 'measuredAt': '2024-06-30T18:30:00Z'}, {'registerId': '1-0:9.8.3*255', 'value': 74.111, 'unit': 'kVAh', 'measuredAt': '2024-06-30T18:30:00Z'}, {'registerId': '1-0:9.8.4*255', 'value': 115.188, 'unit': 'kVAh', 'measuredAt': '2024-06-30T18:30:00Z'}, {'registerId': '1-0:9.8.5*255', 'value': 220.505, 'unit': 'kVAh', 'measuredAt': '2024-06-30T18:30:00Z'}, {'registerId': '1-0:1.6.0*255', 'value': 0.117, 'unit': 'kW', 'measuredAt': '2024-06-01T13:15:00Z'}, {'registerId': '1-0:9.6.0*255', 'value': 0.117, 'unit': 'kVA', 'measuredAt': '2024-06-01T13:15:00Z'}, {'registerId': '1-0:2.8.0*255', 'value': 0.0, 'unit': 'kWh', 'measuredAt': '2024-06-30T18:30:00Z'}, {'registerId': '1-0:10.8.0*255', 'value': 0.0, 'unit': 'kVAh', 'measuredAt': '2024-06-30T18:30:00Z'}, {'registerId': '0-0:94.91.13*255', 'value': 38907, 'unit': 'min', 'measuredAt': '2024-06-30T18:30:00Z'}]}], 'errorMessage': None}\n"
     ]
    }
   ],
   "source": [
    "print(len(val))\n",
    "print(val[0])"
   ]
  },
  {
   "cell_type": "code",
   "execution_count": 66,
   "id": "e62a5bd4-771c-4fa7-be83-b459f4ed61a6",
   "metadata": {},
   "outputs": [],
   "source": [
    "for item in val:\n",
    "    item.pop(\"success\")"
   ]
  },
  {
   "cell_type": "code",
   "execution_count": 67,
   "id": "38b974e0-ef1d-4d1b-96ec-d4b2f214b8f0",
   "metadata": {},
   "outputs": [
    {
     "name": "stdout",
     "output_type": "stream",
     "text": [
      "{'value': [{'capturedAt': '2024-06-30T18:30:00Z', 'readingReason': 1, 'statusWord': 0, 'dataSource': 64, 'meteredValues': [{'registerId': '0-0:0.1.2*255', 'value': 1719772200, 'unit': 's', 'measuredAt': '2024-06-30T18:30:00Z'}, {'registerId': '1-0:13.0.0*255', 'value': 0.991, 'unit': '1', 'measuredAt': '2024-06-30T18:30:00Z'}, {'registerId': '1-0:1.8.0*255', 'value': 520.167, 'unit': 'kWh', 'measuredAt': '2024-06-30T18:30:00Z'}, {'registerId': '1-0:1.8.1*255', 'value': 75.047, 'unit': 'kWh', 'measuredAt': '2024-06-30T18:30:00Z'}, {'registerId': '1-0:1.8.2*255', 'value': 72.782, 'unit': 'kWh', 'measuredAt': '2024-06-30T18:30:00Z'}, {'registerId': '1-0:1.8.3*255', 'value': 60.654, 'unit': 'kWh', 'measuredAt': '2024-06-30T18:30:00Z'}, {'registerId': '1-0:1.8.4*255', 'value': 106.47, 'unit': 'kWh', 'measuredAt': '2024-06-30T18:30:00Z'}, {'registerId': '1-0:1.8.5*255', 'value': 205.214, 'unit': 'kWh', 'measuredAt': '2024-06-30T18:30:00Z'}, {'registerId': '1-0:9.8.0*255', 'value': 607.679, 'unit': 'kVAh', 'measuredAt': '2024-06-30T18:30:00Z'}, {'registerId': '1-0:9.8.1*255', 'value': 99.883, 'unit': 'kVAh', 'measuredAt': '2024-06-30T18:30:00Z'}, {'registerId': '1-0:9.8.2*255', 'value': 97.992, 'unit': 'kVAh', 'measuredAt': '2024-06-30T18:30:00Z'}, {'registerId': '1-0:9.8.3*255', 'value': 74.111, 'unit': 'kVAh', 'measuredAt': '2024-06-30T18:30:00Z'}, {'registerId': '1-0:9.8.4*255', 'value': 115.188, 'unit': 'kVAh', 'measuredAt': '2024-06-30T18:30:00Z'}, {'registerId': '1-0:9.8.5*255', 'value': 220.505, 'unit': 'kVAh', 'measuredAt': '2024-06-30T18:30:00Z'}, {'registerId': '1-0:1.6.0*255', 'value': 0.117, 'unit': 'kW', 'measuredAt': '2024-06-01T13:15:00Z'}, {'registerId': '1-0:9.6.0*255', 'value': 0.117, 'unit': 'kVA', 'measuredAt': '2024-06-01T13:15:00Z'}, {'registerId': '1-0:2.8.0*255', 'value': 0.0, 'unit': 'kWh', 'measuredAt': '2024-06-30T18:30:00Z'}, {'registerId': '1-0:10.8.0*255', 'value': 0.0, 'unit': 'kVAh', 'measuredAt': '2024-06-30T18:30:00Z'}, {'registerId': '0-0:94.91.13*255', 'value': 38907, 'unit': 'min', 'measuredAt': '2024-06-30T18:30:00Z'}]}], 'errorMessage': None}\n",
      "{'value': [{'capturedAt': '2024-06-30T18:30:00Z', 'readingReason': 1, 'statusWord': 0, 'dataSource': 64, 'meteredValues': [{'registerId': '0-0:0.1.2*255', 'value': 1719772200, 'unit': 's', 'measuredAt': '2024-06-30T18:30:00Z'}, {'registerId': '1-0:13.0.0*255', 'value': 0.932, 'unit': '1', 'measuredAt': '2024-06-30T18:30:00Z'}, {'registerId': '1-0:1.8.0*255', 'value': 5455.109, 'unit': 'kWh', 'measuredAt': '2024-06-30T18:30:00Z'}, {'registerId': '1-0:1.8.1*255', 'value': 2005.689, 'unit': 'kWh', 'measuredAt': '2024-06-30T18:30:00Z'}, {'registerId': '1-0:1.8.2*255', 'value': 1132.425, 'unit': 'kWh', 'measuredAt': '2024-06-30T18:30:00Z'}, {'registerId': '1-0:1.8.3*255', 'value': 552.933, 'unit': 'kWh', 'measuredAt': '2024-06-30T18:30:00Z'}, {'registerId': '1-0:1.8.4*255', 'value': 842.293, 'unit': 'kWh', 'measuredAt': '2024-06-30T18:30:00Z'}, {'registerId': '1-0:1.8.5*255', 'value': 921.769, 'unit': 'kWh', 'measuredAt': '2024-06-30T18:30:00Z'}, {'registerId': '1-0:9.8.0*255', 'value': 5565.667, 'unit': 'kVAh', 'measuredAt': '2024-06-30T18:30:00Z'}, {'registerId': '1-0:9.8.1*255', 'value': 2027.579, 'unit': 'kVAh', 'measuredAt': '2024-06-30T18:30:00Z'}, {'registerId': '1-0:9.8.2*255', 'value': 1160.298, 'unit': 'kVAh', 'measuredAt': '2024-06-30T18:30:00Z'}, {'registerId': '1-0:9.8.3*255', 'value': 566.565, 'unit': 'kVAh', 'measuredAt': '2024-06-30T18:30:00Z'}, {'registerId': '1-0:9.8.4*255', 'value': 855.646, 'unit': 'kVAh', 'measuredAt': '2024-06-30T18:30:00Z'}, {'registerId': '1-0:9.8.5*255', 'value': 955.579, 'unit': 'kVAh', 'measuredAt': '2024-06-30T18:30:00Z'}, {'registerId': '1-0:1.6.0*255', 'value': 0.21, 'unit': 'kW', 'measuredAt': '2024-06-29T11:00:00Z'}, {'registerId': '1-0:9.6.0*255', 'value': 0.227, 'unit': 'kVA', 'measuredAt': '2024-06-29T11:00:00Z'}, {'registerId': '1-0:2.8.0*255', 'value': 0.0, 'unit': 'kWh', 'measuredAt': '2024-06-30T18:30:00Z'}, {'registerId': '1-0:10.8.0*255', 'value': 0.0, 'unit': 'kVAh', 'measuredAt': '2024-06-30T18:30:00Z'}, {'registerId': '0-0:94.91.13*255', 'value': 42330, 'unit': 'min', 'measuredAt': '2024-06-30T18:30:00Z'}]}], 'errorMessage': None}\n"
     ]
    }
   ],
   "source": [
    "for i in range(0,2):\n",
    "    print(val[i])"
   ]
  },
  {
   "cell_type": "code",
   "execution_count": null,
   "id": "5bf879aa-bd6a-43d7-a17a-275e8aa8a897",
   "metadata": {},
   "outputs": [],
   "source": [
    "def get_profile_data(address, username, password, profile, devlist, from_time, to_time):\n",
    "    m_values_kwh = []\n",
    "    m_values_kvah = []\n",
    "    for device in devlist:\n",
    "        device_id = device.get('id', 'N/A')\n",
    "        groupName = device.get('groupName', 'N/A')\n",
    "        url = f\"{address}/api/1/devices/{device_id}/profiles/{profile}/entries?from={from_time}&to={to_time}\"\n",
    "        try:\n",
    "            r = requests.get(url, auth=(username, password), verify=False)\n",
    "            r.raise_for_status()\n",
    "        except requests.exceptions.RequestException as e:\n",
    "            print(f\"Request Error: {e}\")\n",
    "            continue\n",
    "        response_dict = r.json()\n",
    "        entries = response_dict.get(\"entries\", [])\n",
    "        if entries:\n",
    "            first_entry = entries[0]\n",
    "            capturedAt = first_entry.get(\"capturedAt\", [])\n",
    "            metered_value = first_entry.get(\"meteredValues\", [])\n",
    "\n",
    "            for item in metered_value:\n",
    "                if item[\"registerId\"] == \"1-0:1.8.0*255\":\n",
    "                    item[\"device\"] = device_id\n",
    "                    item[\"profile\"] = profile\n",
    "                    item[\"groupName\"] = groupName\n",
    "                    if item[\"measuredAt\"] is None:\n",
    "                        item[\"measuredAt\"] = capturedAt\n",
    "                    m_values_kwh.append(item)\n",
    "                elif item[\"registerId\"] == \"1-0:9.8.0*255\":\n",
    "                    item[\"device\"] = device_id\n",
    "                    item[\"profile\"] = profile\n",
    "                    item[\"groupName\"] = groupName\n",
    "                    if item[\"measuredAt\"] is None:\n",
    "                        item[\"measuredAt\"] = capturedAt\n",
    "                    m_values_kvah.append(item)\n",
    "    return m_values_kwh, m_values_kvah"
   ]
  }
 ],
 "metadata": {
  "kernelspec": {
   "display_name": "Python 3 (ipykernel)",
   "language": "python",
   "name": "python3"
  },
  "language_info": {
   "codemirror_mode": {
    "name": "ipython",
    "version": 3
   },
   "file_extension": ".py",
   "mimetype": "text/x-python",
   "name": "python",
   "nbconvert_exporter": "python",
   "pygments_lexer": "ipython3",
   "version": "3.12.4"
  }
 },
 "nbformat": 4,
 "nbformat_minor": 5
}
