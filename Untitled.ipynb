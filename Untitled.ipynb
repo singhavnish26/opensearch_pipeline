{
 "cells": [
  {
   "cell_type": "code",
   "execution_count": 1,
   "id": "33cfdabf-fe29-4c69-8fd4-828a8c952eaa",
   "metadata": {},
   "outputs": [],
   "source": [
    "import datetime\n",
    "import requests\n",
    "import json\n",
    "import urllib3\n",
    "import csv\n",
    "\n",
    "urllib3.disable_warnings(urllib3.exceptions.InsecureRequestWarning)\n",
    "\n",
    "MDMadd = \"https://zonos.dvc.engrid.in/zonos-api\"\n",
    "user = \"sppl_admin\"\n",
    "password = \"$ppli-@dm1n\"\n",
    "profile = \"1-0:99.2.0*255\"\n",
    "url1 = f\"{MDMadd}/api/1/devices/\"\n",
    "start_time_cur =  \"2024-08-31T18:29:00Z\"\n",
    "to_time_cur =  \"2024-08-31T18:31:00Z\"\n",
    "start_time_prev =  \"2024-07-31T18:29:00Z\"\n",
    "to_time_prev =  \"2024-07-31T18:31:00Z\"\n",
    "date_part = start_time_cur.split(\"T\")[0]  # Extract \"2024-08-27\"\n",
    "end_date_part = start_time_prev.split(\"T\")[0]\n"
   ]
  },
  {
   "cell_type": "code",
   "execution_count": null,
   "id": "aae14b66-20fc-401f-82cd-54a2cbf47f91",
   "metadata": {},
   "outputs": [],
   "source": [
    "def write_dicts_to_csv(dict_list, file_name):\n",
    "    if not dict_list:\n",
    "        print(\"The list of dictionaries is empty.\")\n",
    "        return\n",
    "\n",
    "    # Extract the headers from the keys of the first dictionary\n",
    "    headers = dict_list[0].keys()\n",
    "\n",
    "    try:\n",
    "        with open(file_name, 'w', newline='') as csv_file:\n",
    "            writer = csv.DictWriter(csv_file, fieldnames=headers)\n",
    "\n",
    "            # Write the header\n",
    "            writer.writeheader()\n",
    "\n",
    "            # Write the rows\n",
    "            writer.writerows(dict_list)\n",
    "\n",
    "        print(f\"Data successfully written to {file_name}\")\n",
    "\n",
    "    except IOError:\n",
    "        print(\"I/O error occurred while writing to the file.\")"
   ]
  },
  {
   "cell_type": "code",
   "execution_count": null,
   "id": "5b281189-3bc9-46dc-8ba9-ba60fd754141",
   "metadata": {},
   "outputs": [],
   "source": []
  }
 ],
 "metadata": {
  "kernelspec": {
   "display_name": "Python 3",
   "language": "python",
   "name": "python3"
  },
  "language_info": {
   "codemirror_mode": {
    "name": "ipython",
    "version": 3
   },
   "file_extension": ".py",
   "mimetype": "text/x-python",
   "name": "python",
   "nbconvert_exporter": "python",
   "pygments_lexer": "ipython3",
   "version": "3.6.8"
  }
 },
 "nbformat": 4,
 "nbformat_minor": 5
}
