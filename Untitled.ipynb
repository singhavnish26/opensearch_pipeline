{
 "cells": [
  {
   "cell_type": "code",
   "execution_count": 1,
   "id": "e740fa37-981f-400f-8158-57f2c54f5d3d",
   "metadata": {},
   "outputs": [],
   "source": [
    "import datetime\n",
    "from datetime import datetime, timedelta\n",
    "import calendar\n",
    "import requests\n",
    "import json\n",
    "import urllib3\n",
    "import configparser\n",
    "from opensearchpy import OpenSearch, exceptions"
   ]
  },
  {
   "cell_type": "code",
   "execution_count": 2,
   "id": "f4f6979b-c332-4ca5-adb0-d03dd88671db",
   "metadata": {},
   "outputs": [
    {
     "data": {
      "text/plain": [
       "['credentials.ini']"
      ]
     },
     "execution_count": 2,
     "metadata": {},
     "output_type": "execute_result"
    }
   ],
   "source": [
    "config = configparser.ConfigParser()\n",
    "config.read('credentials.ini')"
   ]
  },
  {
   "cell_type": "code",
   "execution_count": 4,
   "id": "b672cb78-1253-4863-918e-f5d3bb592fba",
   "metadata": {},
   "outputs": [],
   "source": [
    "OSS_add = config['OSS']['OSS_add']\n",
    "OSS_port = int(config['OSS']['OSS_port'])\n",
    "OSS_user = config['OSS']['username']\n",
    "OSS_password = config['OSS']['password']\n",
    "client = OpenSearch(\n",
    "    hosts=[{\"host\": OSS_add, \"port\": OSS_port}],\n",
    "    http_auth=(OSS_user, OSS_password),\n",
    "    use_ssl=True,\n",
    "    verify_certs=False,\n",
    "    ssl_assert_hostname=False,\n",
    "    ssl_show_warn=False\n",
    ")\n"
   ]
  },
  {
   "cell_type": "code",
   "execution_count": 5,
   "id": "67887d3b-c591-4191-a056-821798e4fd44",
   "metadata": {},
   "outputs": [],
   "source": [
    "def test_opensearch_connection():\n",
    "    try:\n",
    "        response = client.info()\n",
    "        print(\"Connection successful!\")\n",
    "        print(\"OpenSearch info:\", response)\n",
    "    except Exception as e:\n",
    "        print(f\"Connection failed: {e}\")\n"
   ]
  },
  {
   "cell_type": "code",
   "execution_count": 8,
   "id": "cd7d46fa-265a-40d4-beaf-2acdcf8b0169",
   "metadata": {},
   "outputs": [
    {
     "name": "stdout",
     "output_type": "stream",
     "text": [
      "Connection successful!\n",
      "OpenSearch info: {'name': 'node-1', 'cluster_name': 'dvc-prod-ami-reporting', 'cluster_uuid': 'Q-XAESu9SlC8E2zWdknyyA', 'version': {'distribution': 'opensearch', 'number': '2.7.0', 'build_type': 'rpm', 'build_hash': 'b7a6e09e492b1e965d827525f7863b366ef0e304', 'build_date': '2023-04-27T21:43:23.577631441Z', 'build_snapshot': False, 'lucene_version': '9.5.0', 'minimum_wire_compatibility_version': '7.10.0', 'minimum_index_compatibility_version': '7.0.0'}, 'tagline': 'The OpenSearch Project: https://opensearch.org/'}\n"
     ]
    }
   ],
   "source": [
    "test_opensearch_connection()"
   ]
  },
  {
   "cell_type": "code",
   "execution_count": 2,
   "id": "5734a130-a3b3-4520-bd62-cf71a9ae4dfd",
   "metadata": {},
   "outputs": [
    {
     "name": "stdin",
     "output_type": "stream",
     "text": [
      "Enter the month (e.g., January) or press Enter to use the current month:  July\n",
      "Enter the year (e.g., 2024) or press Enter to use the current year:  \n"
     ]
    }
   ],
   "source": [
    "import datetime\n",
    "from datetime import datetime, timedelta\n",
    "import calendar\n",
    "def generate_time_data(month: str = None, year: int = None, start_hour: int = 18, start_minute: int = 29):\n",
    "    # Use current year and month if not provided\n",
    "    now = datetime.now()\n",
    "    if year is None:\n",
    "        year = now.year\n",
    "    if month is None:\n",
    "        month = now.strftime('%B')\n",
    "\n",
    "    month = month.capitalize()\n",
    "    cur_start_date = datetime(year, list(calendar.month_name).index(month),\n",
    "                              calendar.monthrange(year, list(calendar.month_name).index(month))[1],\n",
    "                              start_hour, start_minute)\n",
    "\n",
    "    # Define current and previous times\n",
    "    start_time_cur = cur_start_date.strftime(\"%Y-%m-%dT%H:%M:%SZ\")\n",
    "    end_time_cur = (cur_start_date + timedelta(minutes=2)).strftime(\"%Y-%m-%dT%H:%M:%SZ\")\n",
    "\n",
    "    # Adjust to the previous month\n",
    "    prev_start_date = cur_start_date - timedelta(days=cur_start_date.day)\n",
    "    start_time_prev = prev_start_date.strftime(\"%Y-%m-%dT%H:%M:%SZ\")\n",
    "    end_time_prev = (prev_start_date + timedelta(minutes=2)).strftime(\"%Y-%m-%dT%H:%M:%SZ\")\n",
    "\n",
    "    # Construct the dictionary\n",
    "    time_data = {\n",
    "        \"start_time_cur\": start_time_cur,\n",
    "        \"to_time_cur\": end_time_cur,\n",
    "        \"start_time_prev\": start_time_prev,\n",
    "        \"to_time_prev\": end_time_prev\n",
    "        }\n",
    "\n",
    "    return time_data\n",
    "\n",
    "\n",
    "\n",
    "#Call Fx to get date and time from User or use current month\n",
    "month_input = input(\"Enter the month (e.g., January) or press Enter to use the current month: \")\n",
    "year_input = input(\"Enter the year (e.g., 2024) or press Enter to use the current year: \")\n",
    "month = month_input if month_input else None\n",
    "year = int(year_input) if year_input else None\n",
    "time_data = generate_time_data(month, year)\n",
    "start_time_cur=time_data.get(\"start_time_cur\")\n",
    "to_time_cur=time_data.get(\"to_time_cur\")\n",
    "start_time_prev=time_data.get(\"start_time_prev\")\n",
    "to_time_prev=time_data.get(\"to_time_prev\")"
   ]
  },
  {
   "cell_type": "code",
   "execution_count": 3,
   "id": "3353e5d8-079f-4019-afe6-d561c554987f",
   "metadata": {},
   "outputs": [
    {
     "name": "stdout",
     "output_type": "stream",
     "text": [
      "2024-07-31T18:29:00Z\n"
     ]
    }
   ],
   "source": [
    "print(start_time_cur)"
   ]
  }
 ],
 "metadata": {
  "kernelspec": {
   "display_name": "Python 3",
   "language": "python",
   "name": "python3"
  },
  "language_info": {
   "codemirror_mode": {
    "name": "ipython",
    "version": 3
   },
   "file_extension": ".py",
   "mimetype": "text/x-python",
   "name": "python",
   "nbconvert_exporter": "python",
   "pygments_lexer": "ipython3",
   "version": "3.6.8"
  }
 },
 "nbformat": 4,
 "nbformat_minor": 5
}
