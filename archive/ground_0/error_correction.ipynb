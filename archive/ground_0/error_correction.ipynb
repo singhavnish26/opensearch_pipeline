{
 "cells": [
  {
   "cell_type": "code",
   "execution_count": 17,
   "id": "edfac83f-2958-44ea-b6d9-ca062b7f81c1",
   "metadata": {},
   "outputs": [
    {
     "name": "stdout",
     "output_type": "stream",
     "text": [
      "[{'device': 'ISKIE075199', 'isDataAvailable': 'false'}, {'device': 'ISKIE067023', 'isDataAvailable': 'true'}, {'device': 'ISKIE067024', 'isDataAvailable': 'true'}, {'device': 'ISKIE067025', 'isDataAvailable': 'true'}, {'device': 'ISKIE067026', 'isDataAvailable': 'true'}, {'device': 'ISKIE067027', 'isDataAvailable': 'true'}, {'device': 'ISKIE067028', 'isDataAvailable': 'false'}, {'device': 'ISKIE067029', 'isDataAvailable': 'false'}, {'device': 'ISKIE067030', 'isDataAvailable': 'true'}, {'device': 'ISKIE067031', 'isDataAvailable': 'true'}]\n"
     ]
    }
   ],
   "source": [
    "import csv\n",
    "\n",
    "with open('data_avail_june.csv', 'r') as file:\n",
    "   reader = csv.DictReader(file)\n",
    "   data_dict = [row for row in reader]\n",
    "\n",
    "print(data_dict)\n"
   ]
  },
  {
   "cell_type": "code",
   "execution_count": 19,
   "id": "5ecb78b2-fa90-4f5b-9a21-e5137964bea0",
   "metadata": {},
   "outputs": [
    {
     "name": "stdout",
     "output_type": "stream",
     "text": [
      "{'device': 'ISKIE075199', 'isDataAvailable': 'false'}\n"
     ]
    }
   ],
   "source": [
    "a = data_dict[0]\n",
    "print(a)\n",
    "\n"
   ]
  },
  {
   "cell_type": "code",
   "execution_count": 21,
   "id": "bae07944-373a-4760-abc0-0f2b254c366b",
   "metadata": {},
   "outputs": [
    {
     "name": "stdout",
     "output_type": "stream",
     "text": [
      "ISKIE075199\n"
     ]
    }
   ],
   "source": [
    "print(a.get('device'))"
   ]
  },
  {
   "cell_type": "code",
   "execution_count": 23,
   "id": "3fc30de6-7172-42b4-89d2-8aae206607fc",
   "metadata": {},
   "outputs": [],
   "source": [
    "device_june=[]\n",
    "for item in data_dict:\n",
    "    device_june.append(item.get('device'))"
   ]
  },
  {
   "cell_type": "code",
   "execution_count": 25,
   "id": "47c3d2a2-5772-4252-be37-26648b204f4b",
   "metadata": {},
   "outputs": [
    {
     "name": "stdout",
     "output_type": "stream",
     "text": [
      "['ISKIE075199', 'ISKIE067023', 'ISKIE067024', 'ISKIE067025', 'ISKIE067026', 'ISKIE067027', 'ISKIE067028', 'ISKIE067029', 'ISKIE067030', 'ISKIE067031']\n"
     ]
    }
   ],
   "source": [
    "print(device_june)"
   ]
  },
  {
   "cell_type": "code",
   "execution_count": 33,
   "id": "caf9f681-7752-480f-ba69-1b4fa16f5b31",
   "metadata": {},
   "outputs": [
    {
     "name": "stdout",
     "output_type": "stream",
     "text": [
      "ISKIE075199\n",
      "ISKIE067023\n",
      "ISKIE067024\n",
      "ISKIE067025\n",
      "ISKIE067026\n",
      "ISKIE067027\n",
      "ISKIE067028\n",
      "ISKIE067029\n",
      "ISKIE067030\n",
      "ISKIE067031\n"
     ]
    }
   ],
   "source": [
    "for item in device_june:\n",
    "    print(item)"
   ]
  },
  {
   "cell_type": "code",
   "execution_count": 10,
   "id": "dc642b5c-6b9f-4ced-8c4f-00c6baf540d9",
   "metadata": {},
   "outputs": [],
   "source": [
    "import datetime\n",
    "import requests\n",
    "import json\n",
    "import urllib3\n",
    "#connection parameters\n",
    "MDMadd = \"https://zonos.dvc.engrid.in/zonos-api\"\n",
    "user = \"sppl_admin\"\n",
    "password = \"$ppli-@dm1n\"\n",
    "profile = \"1-0:98.1.0*255\"\n",
    "urllib3.disable_warnings(urllib3.exceptions.InsecureRequestWarning)\n"
   ]
  },
  {
   "cell_type": "code",
   "execution_count": 12,
   "id": "ebe43a0d-8a78-4b6d-911c-112b1ee527a7",
   "metadata": {},
   "outputs": [],
   "source": [
    "import uuid\n",
    "import hashlib\n",
    "\n",
    "def create_uuid_from_string(val: str):\n",
    "    hex_string = hashlib.md5(val.encode(\"UTF-8\")).hexdigest()\n",
    "    return uuid.UUID(hex=hex_string)"
   ]
  },
  {
   "cell_type": "code",
   "execution_count": 45,
   "id": "9c4722a1-f4e9-4dd4-88c6-76d27806d3b8",
   "metadata": {},
   "outputs": [],
   "source": [
    "def get_profile_data(profile, devlist, from_time, to_time):\n",
    "    m_values_kwh = []\n",
    "    m_values_kvah = []\n",
    "    for device in devlist:\n",
    "#        device_id = device.get('id', 'N/A')\n",
    "#        groupName = device.get('groupName', 'N/A')\n",
    "        url2 = f\"{MDMadd}/api/1/devices/{device}/profiles/{profile}/entries?from={from_time}&to={to_time}\"\n",
    "        try:\n",
    "            r2 = requests.get(url2, auth=(user, password), verify=False)\n",
    "#            r2.raise_for_status()\n",
    "        except requests.exceptions.RequestException as e:\n",
    "            print(f\"Request Error: {e}\")\n",
    "            continue\n",
    "        \n",
    "        response_dict = r2.json()\n",
    "        entries = response_dict.get(\"entries\", [])\n",
    "        if entries:\n",
    "            first_entry = entries[0]\n",
    "            metered_value = first_entry.get(\"meteredValues\", [])\n",
    "\n",
    "            for item in metered_value:\n",
    "                if item[\"registerId\"] == \"1-0:1.8.0*255\":\n",
    "                    item[\"device\"] = device\n",
    "                    item[\"profile\"] = profile\n",
    "                    item[\"UUID\"] = create_uuid_from_string(device+str(item.get('measuredAt'))+item[\"registerId\"])\n",
    "#                   item[\"groupName\"] = groupName\n",
    "                    m_values_kwh.append(item)\n",
    "                elif item[\"registerId\"] == \"1-0:9.8.0*255\":\n",
    "                    item[\"device\"] = device\n",
    "                    item[\"profile\"] = profile\n",
    "#                    item[\"groupName\"] = groupName\n",
    "                    item[\"UUID\"] = create_uuid_from_string(device+str(item.get('measuredAt'))+item[\"registerId\"])\n",
    "                    m_values_kvah.append(item)\n",
    "                    \n",
    "    \n",
    "    return m_values_kwh, m_values_kvah\n",
    "    "
   ]
  },
  {
   "cell_type": "code",
   "execution_count": 54,
   "id": "158db1f8-c7c2-43e5-9a84-457c548a0298",
   "metadata": {},
   "outputs": [],
   "source": [
    "def get_profile_data(profile, devlist, from_time, to_time):\n",
    "    m_values_kwh = []\n",
    "    m_values_kvah = []\n",
    "    for device in devlist:\n",
    "#        device_id = device.get('id', 'N/A')\n",
    "#        groupName = device.get('groupName', 'N/A')\n",
    "        url2 = f\"{MDMadd}/api/1/devices/{device}/profiles/{profile}/entries?from={from_time}&to={to_time}\"\n",
    "        try:\n",
    "            r2 = requests.get(url2, auth=(user, password), verify=False)\n",
    "            r2.raise_for_status()\n",
    "        except requests.exceptions.RequestException as e:\n",
    "            print(f\"Request Error: {e}\")\n",
    "            continue\n",
    "        \n",
    "        response_dict = r2.json()\n",
    "        entries = response_dict.get(\"entries\", [])\n",
    "        if entries:\n",
    "            first_entry = entries[0]\n",
    "            metered_value = first_entry.get(\"meteredValues\", [])\n",
    "\n",
    "            for item in metered_value:\n",
    "                if item[\"registerId\"] == \"1-0:1.8.0*255\":\n",
    "                    item[\"device\"] = device\n",
    "                    item[\"profile\"] = profile\n",
    "                    item[\"UUID\"] = create_uuid_from_string(device+str(item.get('measuredAt'))+item[\"registerId\"])\n",
    "#                   item[\"groupName\"] = groupName\n",
    "                    m_values_kwh.append(item)\n",
    "                elif item[\"registerId\"] == \"1-0:9.8.0*255\":\n",
    "                    item[\"device\"] = device\n",
    "                    item[\"profile\"] = profile\n",
    "#                    item[\"groupName\"] = groupName\n",
    "                    item[\"UUID\"] = create_uuid_from_string(device+str(item.get('measuredAt'))+item[\"registerId\"])\n",
    "                    m_values_kvah.append(item)\n",
    "            \n",
    "    \n",
    "    return m_values_kwh, m_values_kvah"
   ]
  },
  {
   "cell_type": "code",
   "execution_count": 56,
   "id": "635bf857-88ab-4a47-86ec-b80e202549e3",
   "metadata": {},
   "outputs": [
    {
     "name": "stdout",
     "output_type": "stream",
     "text": [
      "Request Error: 404 Client Error: Not Found for url: https://zonos.dvc.engrid.in/zonos-api/api/1/devices/ISKIE075199/profiles/1-0:98.1.0*255/entries?from=2024-06-30T18:29:00Z&to=2024-06-30T18:31:00Z\n"
     ]
    }
   ],
   "source": [
    "start_time_cur = \"2024-06-30T18:29:00Z\"\n",
    "to_time_cur = \"2024-06-30T18:31:00Z\"\n",
    "value_curr_kwh, value_curr_kvah = get_profile_data(profile, device_june, start_time_cur, to_time_cur)"
   ]
  },
  {
   "cell_type": "code",
   "execution_count": 49,
   "id": "8b791abb-2566-4976-b76d-956e39b7e5ce",
   "metadata": {},
   "outputs": [
    {
     "name": "stdout",
     "output_type": "stream",
     "text": [
      "      registerId     value unit            measuredAt       device  \\\n",
      "0  1-0:1.8.0*255  4674.339  kWh  2024-06-30T18:30:00Z  ISKIE067023   \n",
      "1  1-0:1.8.0*255  1351.956  kWh  2024-06-30T18:30:00Z  ISKIE067024   \n",
      "2  1-0:1.8.0*255  3564.747  kWh  2024-06-30T18:30:00Z  ISKIE067025   \n",
      "3  1-0:1.8.0*255  5039.384  kWh  2024-06-30T18:30:00Z  ISKIE067026   \n",
      "4  1-0:1.8.0*255  2727.975  kWh  2024-06-30T18:30:00Z  ISKIE067027   \n",
      "5  1-0:1.8.0*255  4455.146  kWh  2024-06-30T18:30:00Z  ISKIE067030   \n",
      "6  1-0:1.8.0*255  2867.454  kWh  2024-06-30T18:30:00Z  ISKIE067031   \n",
      "\n",
      "          profile                                  UUID  \n",
      "0  1-0:98.1.0*255  dfd7a4b3-9f1e-bffe-1044-87d64920f54b  \n",
      "1  1-0:98.1.0*255  ecade828-e133-5a19-1382-a424b8abc7c1  \n",
      "2  1-0:98.1.0*255  f3418734-b8b9-0243-98a3-cc0bb3fea619  \n",
      "3  1-0:98.1.0*255  0a5a9c5e-68b2-0582-f1dd-7ddd50b091fd  \n",
      "4  1-0:98.1.0*255  71b7734e-7ebc-8527-ae8d-9960fe6ce150  \n",
      "5  1-0:98.1.0*255  a9ccff00-5d8d-87d6-3a7f-ca84a8e911b8  \n",
      "6  1-0:98.1.0*255  a76675df-b9a1-a73c-56bd-37b3d6a16177  \n",
      "      registerId     value  unit            measuredAt       device  \\\n",
      "0  1-0:9.8.0*255  4802.867  kVAh  2024-06-30T18:30:00Z  ISKIE067023   \n",
      "1  1-0:9.8.0*255  1393.367  kVAh  2024-06-30T18:30:00Z  ISKIE067024   \n",
      "2  1-0:9.8.0*255  3657.206  kVAh  2024-06-30T18:30:00Z  ISKIE067025   \n",
      "3  1-0:9.8.0*255  5268.676  kVAh  2024-06-30T18:30:00Z  ISKIE067026   \n",
      "4  1-0:9.8.0*255  2756.381  kVAh  2024-06-30T18:30:00Z  ISKIE067027   \n",
      "5  1-0:9.8.0*255  4597.595  kVAh  2024-06-30T18:30:00Z  ISKIE067030   \n",
      "6  1-0:9.8.0*255  2982.066  kVAh  2024-06-30T18:30:00Z  ISKIE067031   \n",
      "\n",
      "          profile                                  UUID  \n",
      "0  1-0:98.1.0*255  363c4206-876a-d310-e2d7-0f3e057beada  \n",
      "1  1-0:98.1.0*255  c4c051a2-3741-5c44-4070-bbfb2f94100b  \n",
      "2  1-0:98.1.0*255  fd1c2d80-3efa-19ef-e3f3-2bd19c111b3b  \n",
      "3  1-0:98.1.0*255  3873c0d0-f31f-2eff-4a86-bf4fee76634f  \n",
      "4  1-0:98.1.0*255  2c385452-13c4-982d-7bc9-d4f32d1b60f0  \n",
      "5  1-0:98.1.0*255  6bc1dc70-2b24-dfca-f837-16779dfb57ad  \n",
      "6  1-0:98.1.0*255  48e5c64a-1414-7077-f904-b4af12942e14  \n"
     ]
    }
   ],
   "source": [
    "import pandas as pd\n",
    "df = pd.DataFrame(value_curr_kwh)\n",
    "df1 = pd.DataFrame(value_curr_kvah)\n",
    "\n",
    "print(df)\n",
    "print(df1)"
   ]
  }
 ],
 "metadata": {
  "kernelspec": {
   "display_name": "Python 3 (ipykernel)",
   "language": "python",
   "name": "python3"
  },
  "language_info": {
   "codemirror_mode": {
    "name": "ipython",
    "version": 3
   },
   "file_extension": ".py",
   "mimetype": "text/x-python",
   "name": "python",
   "nbconvert_exporter": "python",
   "pygments_lexer": "ipython3",
   "version": "3.12.4"
  }
 },
 "nbformat": 4,
 "nbformat_minor": 5
}
