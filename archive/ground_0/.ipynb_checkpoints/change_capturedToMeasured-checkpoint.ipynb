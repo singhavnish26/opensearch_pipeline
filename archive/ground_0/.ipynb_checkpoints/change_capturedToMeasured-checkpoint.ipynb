{
 "cells": [
  {
   "cell_type": "code",
   "execution_count": 55,
   "id": "3b1c18c1-1dbd-4c11-a416-d632919fb028",
   "metadata": {},
   "outputs": [],
   "source": [
    "import datetime\n",
    "from datetime import datetime, timedelta\n",
    "import calendar\n",
    "import requests\n",
    "import json\n",
    "import urllib3\n",
    "import configparser\n",
    "urllib3.disable_warnings(urllib3.exceptions.InsecureRequestWarning)\n",
    "MDMadd = \"https://nb.sem.jiothings.net\"\n",
    "MDM_user = \"subhasree.api\"\n",
    "MDM_password = \"Subhasree@123\"\n",
    "url1 = url1 = f\"{MDM_add}/api/1/devices/\""
   ]
  },
  {
   "cell_type": "code",
   "execution_count": 56,
   "id": "e96b65c4-3d19-4744-b93e-2ef0026fbfc3",
   "metadata": {},
   "outputs": [],
   "source": [
    "devlist1 = [{'id': 'ISKIE077058', 'inventoryState': 'installed', 'lastConnection': 1729049451, 'groupName': 'Panchet Commercial'}]\n",
    "\n",
    "start_time_cur = \"2024-09-30T18:29:00Z\"\n",
    "to_time_cur = \"2024-09-30T18:31:00Z\""
   ]
  },
  {
   "cell_type": "code",
   "execution_count": 57,
   "id": "a90f20d0-023d-4cc9-8376-8eed331c1746",
   "metadata": {},
   "outputs": [],
   "source": [
    "def get_profile_data(profile, devlist, from_time, to_time):\n",
    "    m_values_kwh = []\n",
    "    m_values_kvah = []\n",
    "    for device in devlist:\n",
    "        device_id = device.get('id', 'N/A')\n",
    "        groupName = device.get('groupName', 'N/A')\n",
    "        url2 = f\"{MDMadd}/api/1/devices/{device_id}/profiles/{profile}/entries?from={from_time}&to={to_time}\"\n",
    "        try:\n",
    "            r2 = requests.get(url2, auth=(MDM_user, MDM_password), verify=False)\n",
    "            r2.raise_for_status()\n",
    "        except requests.exceptions.RequestException as e:\n",
    "            print(f\"Request Error: {e}\")\n",
    "            continue\n",
    "        \n",
    "        response_dict = r2.json()\n",
    "        entries = response_dict.get(\"entries\", [])\n",
    "        if entries:\n",
    "            first_entry = entries[0]\n",
    "            capturedAt = first_entry.get(\"capturedAt\", [])\n",
    "            metered_value = first_entry.get(\"meteredValues\", [])\n",
    "\n",
    "            for item in metered_value:\n",
    "                if item[\"registerId\"] == \"1-0:1.8.0*255\":\n",
    "                    item[\"device\"] = device_id\n",
    "                    item[\"profile\"] = profile\n",
    "                    item[\"groupName\"] = groupName\n",
    "                    if item[\"measuredAt\"] is None:\n",
    "                        item[\"measuredAt\"] = capturedAt\n",
    "                    m_values_kwh.append(item)\n",
    "  \n",
    "    return m_values_kwh"
   ]
  },
  {
   "cell_type": "code",
   "execution_count": 58,
   "id": "4639447b-042c-42b8-b90c-d4cdff764b2c",
   "metadata": {},
   "outputs": [],
   "source": [
    "value_curr_kwh = get_profile_data(\"1-0:98.1.0*255\", devlist1, start_time_cur, to_time_cur)"
   ]
  },
  {
   "cell_type": "code",
   "execution_count": 59,
   "id": "0d28d31d-fe97-4b8b-946f-cd6d81ba152b",
   "metadata": {},
   "outputs": [
    {
     "name": "stdout",
     "output_type": "stream",
     "text": [
      "[{'registerId': '1-0:1.8.0*255', 'value': 532.082, 'unit': 'kWh', 'measuredAt': '2024-09-30T18:30:00Z', 'device': 'ISKIE077058', 'profile': '1-0:98.1.0*255', 'groupName': 'Panchet Commercial'}]\n"
     ]
    }
   ],
   "source": [
    "print(value_curr_kwh)"
   ]
  }
 ],
 "metadata": {
  "kernelspec": {
   "display_name": "Python 3 (ipykernel)",
   "language": "python",
   "name": "python3"
  },
  "language_info": {
   "codemirror_mode": {
    "name": "ipython",
    "version": 3
   },
   "file_extension": ".py",
   "mimetype": "text/x-python",
   "name": "python",
   "nbconvert_exporter": "python",
   "pygments_lexer": "ipython3",
   "version": "3.12.4"
  }
 },
 "nbformat": 4,
 "nbformat_minor": 5
}
