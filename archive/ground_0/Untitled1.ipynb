{
 "cells": [
  {
   "cell_type": "code",
   "execution_count": 2,
   "id": "c01472d8-1ccd-4191-bd20-13820b9f70d9",
   "metadata": {},
   "outputs": [],
   "source": [
    "import datetime\n",
    "from datetime import datetime, timedelta\n",
    "import calendar\n",
    "import requests\n",
    "import json\n",
    "import urllib3\n",
    "import configparser\n",
    "urllib3.disable_warnings(urllib3.exceptions.InsecureRequestWarning)\n",
    "MDMadd = \"https://nb.sem.jiothings.net\"\n",
    "MDM_user = \"subhasree.api\"\n",
    "MDM_password = \"Subhasree@123\"\n",
    "url1 = url1 = f\"{MDMadd}/api/1/devices/\""
   ]
  },
  {
   "cell_type": "code",
   "execution_count": null,
   "id": "6cd5ee54-9ce3-46da-b34b-efc04d5c996c",
   "metadata": {},
   "outputs": [],
   "source": [
    "devlist1 = [{'id': 'ISKIE077058', 'inventoryState': 'installed', 'lastConnection': 1729049451, 'groupName': 'Panchet Commercial'},{'id': 'ISKIE077058', 'inventoryState': 'installed', 'lastConnection': 1729049451, 'groupName': 'Panchet Commercial'}]\n"
   ]
  }
 ],
 "metadata": {
  "kernelspec": {
   "display_name": "Python 3 (ipykernel)",
   "language": "python",
   "name": "python3"
  },
  "language_info": {
   "codemirror_mode": {
    "name": "ipython",
    "version": 3
   },
   "file_extension": ".py",
   "mimetype": "text/x-python",
   "name": "python",
   "nbconvert_exporter": "python",
   "pygments_lexer": "ipython3",
   "version": "3.12.4"
  }
 },
 "nbformat": 4,
 "nbformat_minor": 5
}
