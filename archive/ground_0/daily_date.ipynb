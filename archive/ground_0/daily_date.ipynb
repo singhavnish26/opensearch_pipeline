{
 "cells": [
  {
   "cell_type": "code",
   "execution_count": 3,
   "id": "c240b736-6a32-46e8-87dc-c60f75f5183c",
   "metadata": {},
   "outputs": [
    {
     "name": "stdin",
     "output_type": "stream",
     "text": [
      "Enter the month (e.g., January) or press Enter to use the current month:  August\n",
      "Enter the year (e.g., 2024) or press Enter to use the current year:  2024\n",
      "Enter the day (e.g., 31) or press Enter to use today's date:  02\n"
     ]
    },
    {
     "name": "stdout",
     "output_type": "stream",
     "text": [
      "Current period start time: 2024-08-02T18:29:00Z\n",
      "Current period end time: 2024-08-02T18:31:00Z\n",
      "End date part: 2024-08-02\n"
     ]
    }
   ],
   "source": [
    "from datetime import datetime, timedelta\n",
    "import calendar\n",
    "\n",
    "def generate_time_data(day: int = None, month: str = None, year: int = None, start_hour: int = 18, start_minute: int = 29):\n",
    "    now = datetime.now()\n",
    "    if year is None:\n",
    "        year = now.year\n",
    "    if month is None:\n",
    "        month = now.strftime('%B')\n",
    "    month = month.capitalize()\n",
    "    if day is None:\n",
    "        day = now.day\n",
    "        month = now.strftime('%B')\n",
    "        year = now.year  \n",
    "    cur_start_date = datetime(year, list(calendar.month_name).index(month), day, start_hour, start_minute)\n",
    "    start_time_cur = cur_start_date.strftime(\"%Y-%m-%dT%H:%M:%SZ\")\n",
    "    end_time_cur = (cur_start_date + timedelta(minutes=2)).strftime(\"%Y-%m-%dT%H:%M:%SZ\")\n",
    "    time_data = {\n",
    "        \"start_time_cur\": start_time_cur,\n",
    "        \"to_time_cur\": end_time_cur\n",
    "    }\n",
    "    return time_data\n",
    "\n",
    "month_input = input(\"Enter the month (e.g., January) or press Enter to use the current month: \")\n",
    "year_input = input(\"Enter the year (e.g., 2024) or press Enter to use the current year: \")\n",
    "day_input = input(\"Enter the day (e.g., 31) or press Enter to use today's date: \")\n",
    "month = month_input if month_input else None\n",
    "year = int(year_input) if year_input else None\n",
    "day = int(day_input) if day_input else None\n",
    "time_data = generate_time_data(day, month, year)\n",
    "\n",
    "# Output the results\n",
    "start_time_cur = time_data.get(\"start_time_cur\")\n",
    "to_time_cur = time_data.get(\"to_time_cur\")\n",
    "end_date_part = start_time_cur.split(\"T\")[0]\n",
    "\n",
    "print(\"Current period start time:\", start_time_cur)\n",
    "print(\"Current period end time:\", to_time_cur)\n",
    "print(\"End date part:\", end_date_part)\n"
   ]
  }
 ],
 "metadata": {
  "kernelspec": {
   "display_name": "Python 3",
   "language": "python",
   "name": "python3"
  },
  "language_info": {
   "codemirror_mode": {
    "name": "ipython",
    "version": 3
   },
   "file_extension": ".py",
   "mimetype": "text/x-python",
   "name": "python",
   "nbconvert_exporter": "python",
   "pygments_lexer": "ipython3",
   "version": "3.6.8"
  }
 },
 "nbformat": 4,
 "nbformat_minor": 5
}
