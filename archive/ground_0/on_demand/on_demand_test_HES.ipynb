{
 "cells": [
  {
   "cell_type": "code",
   "execution_count": 71,
   "id": "04befe3c-8798-41bd-bdfb-ece5af32df66",
   "metadata": {},
   "outputs": [],
   "source": [
    "import datetime\n",
    "from datetime import datetime, timedelta\n",
    "import calendar\n",
    "import requests\n",
    "import json\n",
    "import urllib3\n",
    "import configparser\n",
    "config = configparser.ConfigParser()\n",
    "config.read('credentials.ini')\n",
    "MDM_add = config['API']['MDM_add']\n",
    "MDM_user = config['API']['MDM_username']\n",
    "MDM_password = config['API']['MDM_password']\n",
    "HES_add = config['API']['HES_add']\n",
    "HES_user = config['API']['HES_username']\n",
    "HES_password = config['API']['HES_password']"
   ]
  },
  {
   "cell_type": "code",
   "execution_count": null,
   "id": "d6dabcbe-df1c-4950-a6a8-16b0af47e694",
   "metadata": {},
   "outputs": [],
   "source": []
  },
  {
   "cell_type": "code",
   "execution_count": 72,
   "id": "db44e347-e415-4038-a289-e6d389733e99",
   "metadata": {},
   "outputs": [],
   "source": [
    "def get_devices(add,user,password):\n",
    "    url= f\"{add}/api/1/devices/\"\n",
    "    try:\n",
    "        r = requests.get(url1, auth=(user, password), verify=False)\n",
    "        r.raise_for_status()\n",
    "    except requests.exceptions.RequestException as e:\n",
    "        print(f\"Request Error: {e}\")\n",
    "        return []\n",
    "    \n",
    "    device = r.json()\n",
    "    \n",
    "    del_key = ['communicationId', 'typeId', 'typeName', 'templateId', 'templateName', 'managementState', 'description', 'manufacturer', 'model', 'parentId', 'location', 'storeData', 'groupId']\n",
    "    for item in device:\n",
    "        for k in del_key:\n",
    "            item.pop(k, None)\n",
    "    return device"
   ]
  },
  {
   "cell_type": "code",
   "execution_count": 93,
   "id": "3ec60eb9-9b2e-456c-aed7-c36493379cd4",
   "metadata": {},
   "outputs": [
    {
     "name": "stdout",
     "output_type": "stream",
     "text": [
      "============================================================\n",
      "********Data Will Be Extracted For Following********\n",
      "============================================================\n",
      "Data Source   : MDM\n"
     ]
    },
    {
     "ename": "NameError",
     "evalue": "name 'tprof' is not defined",
     "output_type": "error",
     "traceback": [
      "\u001b[0;31m---------------------------------------------------------------------------\u001b[0m",
      "\u001b[0;31mNameError\u001b[0m                                 Traceback (most recent call last)",
      "\u001b[0;32m<ipython-input-93-02a879732697>\u001b[0m in \u001b[0;36m<module>\u001b[0;34m\u001b[0m\n\u001b[1;32m      1\u001b[0m \u001b[0mprint\u001b[0m\u001b[0;34m(\u001b[0m\u001b[0;34mf\"{'='*60}\\n********Data Will Be Extracted For Following********\\n{'='*60}\"\u001b[0m\u001b[0;34m)\u001b[0m\u001b[0;34m\u001b[0m\u001b[0;34m\u001b[0m\u001b[0m\n\u001b[1;32m      2\u001b[0m \u001b[0mprint\u001b[0m\u001b[0;34m(\u001b[0m\u001b[0;34mf\"Data Source   : {data_source}\"\u001b[0m\u001b[0;34m)\u001b[0m\u001b[0;34m\u001b[0m\u001b[0;34m\u001b[0m\u001b[0m\n\u001b[0;32m----> 3\u001b[0;31m \u001b[0mprint\u001b[0m\u001b[0;34m(\u001b[0m\u001b[0;34mf\"Profile       : {tprof}\"\u001b[0m\u001b[0;34m)\u001b[0m\u001b[0;34m\u001b[0m\u001b[0;34m\u001b[0m\u001b[0m\n\u001b[0m\u001b[1;32m      4\u001b[0m \u001b[0mprint\u001b[0m\u001b[0;34m(\u001b[0m\u001b[0;34mf\"Profile Value : {prof}\"\u001b[0m\u001b[0;34m)\u001b[0m\u001b[0;34m\u001b[0m\u001b[0;34m\u001b[0m\u001b[0m\n\u001b[1;32m      5\u001b[0m \u001b[0mprint\u001b[0m\u001b[0;34m(\u001b[0m\u001b[0;34mf\"Start Time    : {start_time_cur}\"\u001b[0m\u001b[0;34m)\u001b[0m\u001b[0;34m\u001b[0m\u001b[0;34m\u001b[0m\u001b[0m\n",
      "\u001b[0;31mNameError\u001b[0m: name 'tprof' is not defined"
     ]
    }
   ],
   "source": [
    "print(f\"{'='*60}\\n********Data Will Be Extracted For Following********\\n{'='*60}\")\n",
    "print(f\"Data Source   : {data_source}\")\n",
    "print(f\"Profile       : {tprof}\")\n",
    "print(f\"Profile Value : {prof}\")\n",
    "print(f\"Start Time    : {start_time_cur}\")\n",
    "print(f\"End Time      : {to_time_cur}\")\n",
    "print(f\"{'='*150}\\n\")"
   ]
  },
  {
   "cell_type": "code",
   "execution_count": 73,
   "id": "a789bc85-1e00-446a-a989-2e8cd98980ed",
   "metadata": {},
   "outputs": [
    {
     "name": "stdout",
     "output_type": "stream",
     "text": [
      "***** Where do you want to get data from HES or MDM*****\n"
     ]
    }
   ],
   "source": [
    "print(\"***** Where do you want to get data from HES or MDM*****\")"
   ]
  },
  {
   "cell_type": "code",
   "execution_count": 86,
   "id": "32c71d53-e7ea-4900-a93e-c2486ca4c8ee",
   "metadata": {},
   "outputs": [
    {
     "name": "stdout",
     "output_type": "stream",
     "text": [
      "***** Where do you want to get data from HES or MDM*****\n"
     ]
    },
    {
     "name": "stdin",
     "output_type": "stream",
     "text": [
      "Enter the data source (HES or MDM):  MDM\n"
     ]
    },
    {
     "name": "stdout",
     "output_type": "stream",
     "text": [
      "***** Data Source is MDM *****\n"
     ]
    }
   ],
   "source": [
    "print(\"***** Where do you want to get data from HES or MDM*****\")\n",
    "while True:\n",
    "    data_source = input(\"Enter the data source (HES or MDM): \").strip()\n",
    "\n",
    "    if data_source == \"HES\":\n",
    "        add = HES_add\n",
    "        user = HES_user\n",
    "        password = HES_password\n",
    "        break\n",
    "    elif data_source == \"MDM\":\n",
    "        add = MDM_add\n",
    "        user = MDM_user\n",
    "        password = MDM_password\n",
    "        break\n",
    "    else:\n",
    "        print(\"Invalid choice. Please enter either 'HES' or 'MDM'.\")\n",
    "print(f\"********** Data Source is {data_source} **********\")"
   ]
  },
  {
   "cell_type": "code",
   "execution_count": 82,
   "id": "e2524aaf-c7d0-4455-91d3-63e5ab4c210c",
   "metadata": {},
   "outputs": [],
   "source": [
    "def billing_time_data(month: str = None, year: int = None, start_hour: int = 18, start_minute: int = 29):\n",
    "    # Use current year and month if not provided\n",
    "    now = datetime.now()\n",
    "    if year is None:\n",
    "        year = now.year\n",
    "    if month is None:\n",
    "        month = now.strftime('%B')\n",
    "    \n",
    "    month = month.capitalize()\n",
    "    cur_start_date = datetime(year, list(calendar.month_name).index(month), \n",
    "                              calendar.monthrange(year, list(calendar.month_name).index(month))[1],\n",
    "                              start_hour, start_minute)\n",
    "    start_time_cur = cur_start_date.strftime(\"%Y-%m-%dT%H:%M:%SZ\")\n",
    "    end_time_cur = (cur_start_date + timedelta(minutes=2)).strftime(\"%Y-%m-%dT%H:%M:%SZ\")        \n",
    "    return start_time_cur, end_time_cur\n",
    "\n",
    "\n",
    "def daily_time_data(day: int = None, month: str = None, year: int = None, start_hour: int = 18, start_minute: int = 29):\n",
    "    now = datetime.now()\n",
    "    if year is None:\n",
    "        year = now.year\n",
    "    if month is None:\n",
    "        month = now.strftime('%B')\n",
    "    month = month.capitalize()\n",
    "    if day is None:\n",
    "        day = now.day\n",
    "        month = now.strftime('%B')\n",
    "        year = now.year  \n",
    "    cur_start_date = datetime(year, list(calendar.month_name).index(month), day, start_hour, start_minute)\n",
    "    start_time_cur = cur_start_date.strftime(\"%Y-%m-%dT%H:%M:%SZ\")\n",
    "    end_time_cur = (cur_start_date + timedelta(minutes=2)).strftime(\"%Y-%m-%dT%H:%M:%SZ\")\n",
    "    return start_time_cur, end_time_cur\n"
   ]
  },
  {
   "cell_type": "code",
   "execution_count": 83,
   "id": "581dd195-8a8b-4e4e-932f-ed6f373900b5",
   "metadata": {},
   "outputs": [
    {
     "name": "stdin",
     "output_type": "stream",
     "text": [
      "Enter the profile you want to extract data for (Billing or Daily):  Billing\n",
      "Enter the month (e.g., January) or press Enter to use the current month:  \n",
      "Enter the year (e.g., 2024) or press Enter to use the current year:  \n"
     ]
    }
   ],
   "source": [
    "\n",
    "while True:\n",
    "    profile = input(\"Enter the profile you want to extract data for (Billing or Daily): \").strip().lower()\n",
    "    if profile == \"billing\":\n",
    "        prof = \"1-0:98.1.0*255\"\n",
    "        while True:\n",
    "            try:\n",
    "                month_input = input(\"Enter the month (e.g., January) or press Enter to use the current month: \")\n",
    "                year_input = input(\"Enter the year (e.g., 2024) or press Enter to use the current year: \")\n",
    "                month = month_input if month_input else None\n",
    "                year = int(year_input) if year_input else None\n",
    "                start_time_cur, to_time_cur = billing_time_data(month, year)\n",
    "                break\n",
    "            except (ValueError, IndexError):\n",
    "                print(\"Invalid date. Please try again.\")\n",
    "        break\n",
    "    elif profile == \"daily\":\n",
    "        prof = \"1-0:99.2.0*255\"\n",
    "        while True:\n",
    "            try:\n",
    "                year_input = input(\"Enter the year (e.g., 2024) or press Enter to use the current year: \")\n",
    "                month_input = input(\"Enter the month (e.g., January) or press Enter to use the current month: \")\n",
    "                day_input = input(\"Enter the day (e.g., 31) or press Enter to use today's date: \")\n",
    "                month = month_input if month_input else None\n",
    "                year = int(year_input) if year_input else None\n",
    "                day = int(day_input) if day_input else None\n",
    "                start_time_cur, to_time_cur = daily_time_data(day, month, year)\n",
    "                break\n",
    "            except (ValueError, IndexError):\n",
    "                print(\"Invalid Date. Please try again\")\n",
    "        break\n",
    "            \n",
    "    else:\n",
    "        print(\"Invalid choice. Please enter either 'billing' or 'daily'.\")\n",
    "        \n",
    "end_date_part = start_time_cur.split(\"T\")[0]\n"
   ]
  },
  {
   "cell_type": "code",
   "execution_count": 87,
   "id": "2285ec68-7a0f-4c2b-a6b7-aa2f5fa84e3a",
   "metadata": {},
   "outputs": [
    {
     "name": "stdout",
     "output_type": "stream",
     "text": [
      "MDM\n",
      "1-0:98.1.0*255\n",
      "2024-09-30T18:29:00Z\n",
      "2024-09-30T18:31:00Z\n",
      "2024-09-30\n"
     ]
    }
   ],
   "source": [
    "print(data_source)\n",
    "print(prof)\n",
    "print(start_time_cur)\n",
    "print(to_time_cur)\n",
    "print(end_date_part)"
   ]
  },
  {
   "cell_type": "code",
   "execution_count": 91,
   "id": "33bcd157-8a1c-44a6-bd89-1cd35ec49de6",
   "metadata": {},
   "outputs": [
    {
     "name": "stdout",
     "output_type": "stream",
     "text": [
      "Data Will Be Extracted For Following:\n",
      "======================================\n",
      "Data Source   : MDM\n",
      "Profile       : Billing Profile\n",
      "Start Time    : 2024-09-30T18:29:00Z\n",
      "End Time      : 2024-09-30T18:31:00Z\n"
     ]
    }
   ],
   "source": [
    "#print(f\"Data Will Be Extracted For Following:\\n{'='*38}\")\n",
    "print(f\"Data Will Be Extracted For Following:\\n{'='*38}\")\n",
    "\n",
    "print(f\"Data Source   : {data_source}\")\n",
    "print(f\"Profile       : {profile.capitalize()} Profile\")\n",
    "print(f\"Start Time    : {start_time_cur}\")\n",
    "print(f\"End Time      : {to_time_cur}\")"
   ]
  }
 ],
 "metadata": {
  "kernelspec": {
   "display_name": "Python 3",
   "language": "python",
   "name": "python3"
  },
  "language_info": {
   "codemirror_mode": {
    "name": "ipython",
    "version": 3
   },
   "file_extension": ".py",
   "mimetype": "text/x-python",
   "name": "python",
   "nbconvert_exporter": "python",
   "pygments_lexer": "ipython3",
   "version": "3.6.8"
  }
 },
 "nbformat": 4,
 "nbformat_minor": 5
}
