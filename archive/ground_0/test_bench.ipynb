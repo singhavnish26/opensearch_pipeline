{
 "cells": [
  {
   "cell_type": "code",
   "execution_count": 7,
   "id": "d5be11cd-9b5f-4199-863a-e368253fb02a",
   "metadata": {},
   "outputs": [],
   "source": [
    "import datetime\n",
    "from datetime import datetime, timedelta\n",
    "import calendar\n",
    "import requests\n",
    "import json\n",
    "import urllib3\n",
    "import configparser\n",
    "from opensearchpy import OpenSearch, exceptions\n",
    "\n",
    "#Read sensitive data from credentials.ini file\n",
    "config = configparser.ConfigParser()\n",
    "config.read('credentials.ini')\n",
    "\n",
    "#silent the error from API calls\n",
    "urllib3.disable_warnings(urllib3.exceptions.InsecureRequestWarning)"
   ]
  },
  {
   "cell_type": "code",
   "execution_count": 8,
   "id": "acb213d6-1a02-499f-bad7-f901f1439170",
   "metadata": {},
   "outputs": [],
   "source": [
    "#Assign MDM credentials\n",
    "MDMadd = config['API']['MDM_add']\n",
    "MDM_user = config['API']['MDM_username']\n",
    "MDM_password = config['API']['MDM_password']\n",
    "\n",
    "#Assign HES credentials\n",
    "HESadd = config['API']['HES_add']\n",
    "HES_user = config['API']['HES_username']\n",
    "HES_password = config['API']['HES_password']\n",
    "\n",
    "#Assign OSS credentials\n",
    "OSS_add = config['OSS']['OSS_add']\n",
    "OSS_port = int(config['OSS']['OSS_port'])\n",
    "OSS_user = config['OSS']['username']\n",
    "OSS_password = config['OSS']['password']"
   ]
  },
  {
   "cell_type": "code",
   "execution_count": 11,
   "id": "b073ff18-deb3-4a8e-93a8-1df4afd9358a",
   "metadata": {},
   "outputs": [
    {
     "name": "stdout",
     "output_type": "stream",
     "text": [
      "For Billing Profile Write \"Billing\" and hit enter\n",
      "For Daily Profile Write \"Daily\" and hit enter\n"
     ]
    },
    {
     "name": "stdin",
     "output_type": "stream",
     "text": [
      "Enter the profile you want to get data for:  Billing\n"
     ]
    }
   ],
   "source": [
    "profile_matrix={\n",
    "    \"Billing\": \"1-0:98.1.0*255\",\n",
    "    \"Daily\" : \"1-0:99.2.0*255\",\n",
    "    \"BlockLoad\" : \"1-0:99.1.0*255\",\n",
    "    \"Instantaneous\" : \"1-0:94.91.0*255\"\n",
    "}\n",
    "\n",
    "print(\"For Billing Profile Write \\\"Billing\\\" and hit enter\")\n",
    "print(\"For Daily Profile Write \\\"Daily\\\" and hit enter\")\n",
    "prof = input(\"Enter the profile you want to get data for: \")\n",
    "profile = profile_matrix.get(prof)"
   ]
  },
  {
   "cell_type": "code",
   "execution_count": 12,
   "id": "e2154b1c-4ae7-4fc8-93a2-f7d1ac013a41",
   "metadata": {},
   "outputs": [
    {
     "name": "stdout",
     "output_type": "stream",
     "text": [
      "1-0:98.1.0*255\n"
     ]
    }
   ],
   "source": [
    "print(profile)"
   ]
  },
  {
   "cell_type": "code",
   "execution_count": 13,
   "id": "d5cdb971-27dd-4f14-a801-53e73ae53fb7",
   "metadata": {},
   "outputs": [
    {
     "name": "stdin",
     "output_type": "stream",
     "text": [
      "Enter your input 1 or 2:  2\n"
     ]
    }
   ],
   "source": [
    "stream = int(input(\"Enter your input 1 or 2: \"))"
   ]
  }
 ],
 "metadata": {
  "kernelspec": {
   "display_name": "Python 3",
   "language": "python",
   "name": "python3"
  },
  "language_info": {
   "codemirror_mode": {
    "name": "ipython",
    "version": 3
   },
   "file_extension": ".py",
   "mimetype": "text/x-python",
   "name": "python",
   "nbconvert_exporter": "python",
   "pygments_lexer": "ipython3",
   "version": "3.6.8"
  }
 },
 "nbformat": 4,
 "nbformat_minor": 5
}
