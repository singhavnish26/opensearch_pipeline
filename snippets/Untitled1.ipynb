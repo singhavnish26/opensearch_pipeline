{
 "cells": [
  {
   "cell_type": "code",
   "execution_count": 1,
   "id": "891d8e28-54ad-48d9-adcd-74ffc88faa1a",
   "metadata": {},
   "outputs": [],
   "source": [
    "def generate_time_data(month: str = None, year: int = None, start_hour: int = 18, start_minute: int = 29):\n",
    "    # Use current year and month if not provided\n",
    "    now = datetime.now()\n",
    "    if year is None:\n",
    "        year = now.year\n",
    "    if month is None:\n",
    "        month = now.strftime('%B')\n",
    "    \n",
    "    month = month.capitalize()\n",
    "    cur_start_date = datetime(year, list(calendar.month_name).index(month), \n",
    "                              calendar.monthrange(year, list(calendar.month_name).index(month))[1],\n",
    "                              start_hour, start_minute)\n",
    "    \n",
    "    # Define current and previous times\n",
    "    start_time_cur = cur_start_date.strftime(\"%Y-%m-%dT%H:%M:%SZ\")\n",
    "    end_time_cur = (cur_start_date + timedelta(minutes=2)).strftime(\"%Y-%m-%dT%H:%M:%SZ\")\n",
    "    \n",
    "    # Adjust to the previous month\n",
    "    prev_start_date = cur_start_date - timedelta(days=cur_start_date.day)\n",
    "    start_time_prev = prev_start_date.strftime(\"%Y-%m-%dT%H:%M:%SZ\")\n",
    "    end_time_prev = (prev_start_date + timedelta(minutes=2)).strftime(\"%Y-%m-%dT%H:%M:%SZ\")\n",
    "    \n",
    "    # Construct the dictionary\n",
    "    time_data = {\n",
    "        \"start_time_cur\": start_time_cur,\n",
    "        \"to_time_cur\": end_time_cur,\n",
    "        \"start_time_prev\": start_time_prev,\n",
    "        \"to_time_prev\": end_time_prev\n",
    "        }\n",
    "    \n",
    "    return time_data"
   ]
  },
  {
   "cell_type": "code",
   "execution_count": 3,
   "id": "e8cb9651-c771-4820-bf49-b2447ea17163",
   "metadata": {},
   "outputs": [
    {
     "name": "stdin",
     "output_type": "stream",
     "text": [
      "Enter the month (e.g., January) or press Enter to use the current month:  July\n",
      "Enter the year (e.g., 2024) or press Enter to use the current year:  \n"
     ]
    }
   ],
   "source": [
    "import datetime\n",
    "from datetime import datetime, timedelta\n",
    "import calendar\n",
    "month_input = input(\"Enter the month (e.g., January) or press Enter to use the current month: \")\n",
    "year_input = input(\"Enter the year (e.g., 2024) or press Enter to use the current year: \")\n",
    "month = month_input if month_input else None\n",
    "year = int(year_input) if year_input else None\n",
    "time_data = generate_time_data(month, year)\n",
    "start_time_cur=time_data.get(\"start_time_cur\")\n",
    "to_time_cur=time_data.get(\"to_time_cur\")\n",
    "start_time_prev=time_data.get(\"start_time_prev\")\n",
    "to_time_prev=time_data.get(\"to_time_prev\")"
   ]
  },
  {
   "cell_type": "code",
   "execution_count": 4,
   "id": "2f53e743-936c-4839-8cb6-afbf679e73d3",
   "metadata": {},
   "outputs": [
    {
     "name": "stdout",
     "output_type": "stream",
     "text": [
      "2024-07-31T18:29:00Z\n"
     ]
    }
   ],
   "source": [
    "print (start_time_cur)"
   ]
  }
 ],
 "metadata": {
  "kernelspec": {
   "display_name": "Python 3",
   "language": "python",
   "name": "python3"
  },
  "language_info": {
   "codemirror_mode": {
    "name": "ipython",
    "version": 3
   },
   "file_extension": ".py",
   "mimetype": "text/x-python",
   "name": "python",
   "nbconvert_exporter": "python",
   "pygments_lexer": "ipython3",
   "version": "3.6.8"
  }
 },
 "nbformat": 4,
 "nbformat_minor": 5
}
