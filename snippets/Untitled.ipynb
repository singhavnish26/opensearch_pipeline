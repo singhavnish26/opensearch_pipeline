{
 "cells": [
  {
   "cell_type": "code",
   "execution_count": 1,
   "id": "2c8781f5-4150-47f6-b83c-64db84d1f978",
   "metadata": {},
   "outputs": [],
   "source": [
    "from datetime import datetime, timedelta\n",
    "import calendar\n",
    "\n",
    "def generate_time_data(month: str = None, year: int = None, start_hour: int = 18, start_minute: int = 29):\n",
    "    # Use current year and month if not provided\n",
    "    now = datetime.now()\n",
    "    if year is None:\n",
    "        year = now.year\n",
    "    if month is None:\n",
    "        month = now.strftime('%B')\n",
    "    \n",
    "    month = month.capitalize()\n",
    "    cur_start_date = datetime(year, list(calendar.month_name).index(month), \n",
    "                              calendar.monthrange(year, list(calendar.month_name).index(month))[1],\n",
    "                              start_hour, start_minute)\n",
    "    \n",
    "    # Define current and previous times\n",
    "    start_time_cur = cur_start_date.strftime(\"%Y-%m-%dT%H:%M:%SZ\")\n",
    "    end_time_cur = (cur_start_date + timedelta(minutes=2)).strftime(\"%Y-%m-%dT%H:%M:%SZ\")\n",
    "    \n",
    "    # Adjust to the previous month\n",
    "    prev_start_date = cur_start_date - timedelta(days=cur_start_date.day)\n",
    "    start_time_prev = prev_start_date.strftime(\"%Y-%m-%dT%H:%M:%SZ\")\n",
    "    end_time_prev = (prev_start_date + timedelta(minutes=2)).strftime(\"%Y-%m-%dT%H:%M:%SZ\")\n",
    "    \n",
    "    # Construct the dictionary\n",
    "    time_data = {\n",
    "        \"start_time_cur\": start_time_cur,\n",
    "        \"to_time_cur\": end_time_cur,\n",
    "        \"start_time_prev\": start_time_prev,\n",
    "        \"to_time_prev\": end_time_prev\n",
    "        }\n",
    "    \n",
    "    return time_data\n"
   ]
  },
  {
   "cell_type": "code",
   "execution_count": 3,
   "id": "304b471f-136b-44b3-8ac3-6983bc349141",
   "metadata": {},
   "outputs": [
    {
     "name": "stdin",
     "output_type": "stream",
     "text": [
      "Enter the month (e.g., January) or press Enter to use the current month:  February\n",
      "Enter the year (e.g., 2024) or press Enter to use the current year:  2024\n"
     ]
    }
   ],
   "source": [
    "month_input = input(\"Enter the month (e.g., January) or press Enter to use the current month: \")\n",
    "year_input = input(\"Enter the year (e.g., 2024) or press Enter to use the current year: \")\n",
    "month = month_input if month_input else None\n",
    "year = int(year_input) if year_input else None\n",
    "time_data = generate_time_data(month, year)\n",
    "start_time_curr=time_data.get(\"start_time_cur\")\n",
    "to_time_curr=time_data.get(\"to_time_cur\")\n",
    "start_time_prev=time_data.get(\"start_time_prev\")\n",
    "to_time_curr=time_data.get(\"to_time_prev\")\n"
   ]
  },
  {
   "cell_type": "code",
   "execution_count": 4,
   "id": "36ce258b-e6f8-4ef4-97a4-ccd040012e14",
   "metadata": {},
   "outputs": [
    {
     "name": "stdout",
     "output_type": "stream",
     "text": [
      "2024-02-29T18:29:00Z\n"
     ]
    }
   ],
   "source": []
  }
 ],
 "metadata": {
  "kernelspec": {
   "display_name": "Python 3",
   "language": "python",
   "name": "python3"
  },
  "language_info": {
   "codemirror_mode": {
    "name": "ipython",
    "version": 3
   },
   "file_extension": ".py",
   "mimetype": "text/x-python",
   "name": "python",
   "nbconvert_exporter": "python",
   "pygments_lexer": "ipython3",
   "version": "3.6.8"
  }
 },
 "nbformat": 4,
 "nbformat_minor": 5
}
