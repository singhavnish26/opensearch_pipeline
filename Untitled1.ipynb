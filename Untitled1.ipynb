{
 "cells": [
  {
   "cell_type": "code",
   "execution_count": 1,
   "id": "b34642ed-33dc-457f-8411-31beea77d6e6",
   "metadata": {},
   "outputs": [],
   "source": [
    "from opensearchpy import OpenSearch, exceptions\n",
    "import configparser\n",
    "OSS_add = \"100.102.4.11\"\n",
    "OSS_port = \"9200\"\n",
    "OSS_user = \"admin\"\n",
    "OSS_password = \"admin\"\n",
    "\n",
    "client = OpenSearch(\n",
    "    hosts=[{\"host\": OSS_add, \"port\": OSS_port}],\n",
    "    http_auth=(OSS_user, OSS_password),\n",
    "    use_ssl=True,\n",
    "    verify_certs=False,\n",
    "    ssl_assert_hostname=False,\n",
    "    ssl_show_warn=False\n",
    ")\n",
    "\n",
    "\n",
    "\n",
    "def test_opensearch_connection():\n",
    "    try:\n",
    "        response = client.info()\n",
    "        print(\"Connection successful!\")\n",
    "        print(\"OpenSearch info:\", response)\n",
    "    except Exception as e:\n",
    "        print(f\"Connection failed: {e}\")"
   ]
  },
  {
   "cell_type": "code",
   "execution_count": null,
   "id": "00f83c0f-95be-4205-8a2e-2c460eb04b89",
   "metadata": {},
   "outputs": [],
   "source": [
    "test_opensearch_connection()"
   ]
  }
 ],
 "metadata": {
  "kernelspec": {
   "display_name": "Python 3",
   "language": "python",
   "name": "python3"
  },
  "language_info": {
   "codemirror_mode": {
    "name": "ipython",
    "version": 3
   },
   "file_extension": ".py",
   "mimetype": "text/x-python",
   "name": "python",
   "nbconvert_exporter": "python",
   "pygments_lexer": "ipython3",
   "version": "3.6.8"
  }
 },
 "nbformat": 4,
 "nbformat_minor": 5
}
